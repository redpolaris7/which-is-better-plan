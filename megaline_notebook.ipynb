{
 "cells": [
  {
   "cell_type": "markdown",
   "metadata": {},
   "source": [
    "# Which one is a better plan?\n",
    "\n",
    "Hi, today study is for the telecom operator Megaline. The company offers its clients two prepaid plans, Surf and Ultimate. The commercial department wants to know which of the plans brings in more revenue in order to adjust the advertising budget.\n",
    "\n",
    "I'm going to carry out a preliminary analysis of the plans based on a relatively small client selection. We have the data on 500 Megaline clients: who the clients are, where they're from, which plan they use, and the number of calls they made and text messages they sent in 2018. My job is to analyze the clients' behavior and determine which prepaid plan brings in more revenue."
   ]
  },
  {
   "cell_type": "markdown",
   "metadata": {},
   "source": [
    "#### Description of the plans\n",
    "\n",
    "**Note:** Megaline rounds seconds up to minutes, and megabytes to gigabytes. For\n",
    "calls, each individual call is rounded up: even if the call lasted just one second, it will\n",
    "be counted as one minute. For web traffic, individual web sessions are not rounded\n",
    "up. Instead, the total for the month is rounded up. If someone uses 1025 megabytes\n",
    "this month, they will be charged for 2 gigabytes.\n",
    "\n",
    "**Surf**\n",
    "\n",
    "1. Monthly charge $20\n",
    "\n",
    "2. 500 monthly minutes, 50 texts, and 15 GB of data\n",
    "\n",
    "3. After exceeding the package limits (a. 1 minute = 3 cents; b. 1 text message = 3 cents; c. 1 GB of data = $10)\n",
    "\n",
    "\n",
    "**Ultimate**\n",
    "\n",
    "1. Monthly charge $70\n",
    "\n",
    "2. 3000 monthly minutes, 1000 text messages, and 30 GB of data\n",
    "\n",
    "3. After exceeding the package limits (a. 1 minute = 1 cent; b. 1 text message = 1 cent; c. 1 GB of data = $7)\n"
   ]
  },
  {
   "cell_type": "markdown",
   "metadata": {},
   "source": [
    "### Analyze the data\n",
    "\n",
    "I'm going to describe the customers' behavior by finding the minutes, texts, and volume of data the\n",
    "users of each plan require per month. Then I'll calculate the mean, variance, and standard\n",
    "deviation. Plot histograms and describe the distributions."
   ]
  },
  {
   "cell_type": "markdown",
   "metadata": {},
   "source": [
    "## Initialization"
   ]
  },
  {
   "cell_type": "markdown",
   "metadata": {},
   "source": [
    "Let's import some tools to our project."
   ]
  },
  {
   "cell_type": "code",
   "execution_count": 1,
   "metadata": {},
   "outputs": [],
   "source": [
    "# Loading all the libraries\n",
    "\n",
    "import pandas as pd\n",
    "import matplotlib.pyplot as plt\n",
    "import numpy as np    \n",
    "import seaborn as sns\n",
    "import datetime as dt \n",
    "import warnings\n",
    "warnings.filterwarnings(\"ignore\")\n",
    "from functools import reduce\n",
    "import math\n",
    "from scipy import stats"
   ]
  },
  {
   "cell_type": "markdown",
   "metadata": {},
   "source": [
    "## Load data"
   ]
  },
  {
   "cell_type": "markdown",
   "metadata": {},
   "source": [
    "We have 4 dataframes provided so let's save them under appropriate names."
   ]
  },
  {
   "cell_type": "code",
   "execution_count": 2,
   "metadata": {},
   "outputs": [],
   "source": [
    "# Loading the data files into different DataFrames\n",
    "\n",
    "try:\n",
    "    calls = pd.read_csv('megaline_calls.csv')\n",
    "    intnet = pd.read_csv('megaline_internet.csv')\n",
    "    msg = pd.read_csv('megaline_messages.csv')\n",
    "    plans = pd.read_csv('megaline_plans.csv')\n",
    "    users = pd.read_csv('megaline_users.csv')\n",
    "except:\n",
    "    calls = pd.read_csv('/datasets/megaline_calls.csv')\n",
    "    intnet = pd.read_csv('/datasets/megaline_internet.csv')\n",
    "    msg = pd.read_csv('/datasets/megaline_messages.csv')\n",
    "    plans = pd.read_csv('/datasets/megaline_plans.csv')\n",
    "    users = pd.read_csv('/datasets/megaline_users.csv')"
   ]
  },
  {
   "cell_type": "markdown",
   "metadata": {},
   "source": [
    "## Prepare the data"
   ]
  },
  {
   "cell_type": "markdown",
   "metadata": {},
   "source": [
    "## Plans"
   ]
  },
  {
   "cell_type": "code",
   "execution_count": 3,
   "metadata": {},
   "outputs": [
    {
     "name": "stdout",
     "output_type": "stream",
     "text": [
      "<class 'pandas.core.frame.DataFrame'>\n",
      "RangeIndex: 2 entries, 0 to 1\n",
      "Data columns (total 8 columns):\n",
      " #   Column                 Non-Null Count  Dtype  \n",
      "---  ------                 --------------  -----  \n",
      " 0   messages_included      2 non-null      int64  \n",
      " 1   mb_per_month_included  2 non-null      int64  \n",
      " 2   minutes_included       2 non-null      int64  \n",
      " 3   usd_monthly_pay        2 non-null      int64  \n",
      " 4   usd_per_gb             2 non-null      int64  \n",
      " 5   usd_per_message        2 non-null      float64\n",
      " 6   usd_per_minute         2 non-null      float64\n",
      " 7   plan_name              2 non-null      object \n",
      "dtypes: float64(2), int64(5), object(1)\n",
      "memory usage: 256.0+ bytes\n"
     ]
    }
   ],
   "source": [
    "# Printing the general/summary information about the plans' DataFrame\n",
    "\n",
    "plans.info()"
   ]
  },
  {
   "cell_type": "code",
   "execution_count": 4,
   "metadata": {},
   "outputs": [
    {
     "data": {
      "text/html": [
       "<div>\n",
       "<style scoped>\n",
       "    .dataframe tbody tr th:only-of-type {\n",
       "        vertical-align: middle;\n",
       "    }\n",
       "\n",
       "    .dataframe tbody tr th {\n",
       "        vertical-align: top;\n",
       "    }\n",
       "\n",
       "    .dataframe thead th {\n",
       "        text-align: right;\n",
       "    }\n",
       "</style>\n",
       "<table border=\"1\" class=\"dataframe\">\n",
       "  <thead>\n",
       "    <tr style=\"text-align: right;\">\n",
       "      <th></th>\n",
       "      <th>messages_included</th>\n",
       "      <th>mb_per_month_included</th>\n",
       "      <th>minutes_included</th>\n",
       "      <th>usd_monthly_pay</th>\n",
       "      <th>usd_per_gb</th>\n",
       "      <th>usd_per_message</th>\n",
       "      <th>usd_per_minute</th>\n",
       "      <th>plan_name</th>\n",
       "    </tr>\n",
       "  </thead>\n",
       "  <tbody>\n",
       "    <tr>\n",
       "      <th>0</th>\n",
       "      <td>50</td>\n",
       "      <td>15360</td>\n",
       "      <td>500</td>\n",
       "      <td>20</td>\n",
       "      <td>10</td>\n",
       "      <td>0.03</td>\n",
       "      <td>0.03</td>\n",
       "      <td>surf</td>\n",
       "    </tr>\n",
       "    <tr>\n",
       "      <th>1</th>\n",
       "      <td>1000</td>\n",
       "      <td>30720</td>\n",
       "      <td>3000</td>\n",
       "      <td>70</td>\n",
       "      <td>7</td>\n",
       "      <td>0.01</td>\n",
       "      <td>0.01</td>\n",
       "      <td>ultimate</td>\n",
       "    </tr>\n",
       "  </tbody>\n",
       "</table>\n",
       "</div>"
      ],
      "text/plain": [
       "   messages_included  mb_per_month_included  minutes_included  \\\n",
       "0                 50                  15360               500   \n",
       "1               1000                  30720              3000   \n",
       "\n",
       "   usd_monthly_pay  usd_per_gb  usd_per_message  usd_per_minute plan_name  \n",
       "0               20          10             0.03            0.03      surf  \n",
       "1               70           7             0.01            0.01  ultimate  "
      ]
     },
     "execution_count": 4,
     "metadata": {},
     "output_type": "execute_result"
    }
   ],
   "source": [
    "# Printing a sample of data for plans\n",
    "\n",
    "plans.head(2)"
   ]
  },
  {
   "cell_type": "markdown",
   "metadata": {},
   "source": [
    "This dataframe with only 2 rows will be used to reach our goal in finding which plan brings more value."
   ]
  },
  {
   "cell_type": "markdown",
   "metadata": {},
   "source": [
    "## Users"
   ]
  },
  {
   "cell_type": "markdown",
   "metadata": {},
   "source": [
    "Now let's take a look at the dataframe we have with users. "
   ]
  },
  {
   "cell_type": "code",
   "execution_count": 5,
   "metadata": {},
   "outputs": [
    {
     "name": "stdout",
     "output_type": "stream",
     "text": [
      "<class 'pandas.core.frame.DataFrame'>\n",
      "RangeIndex: 500 entries, 0 to 499\n",
      "Data columns (total 8 columns):\n",
      " #   Column      Non-Null Count  Dtype \n",
      "---  ------      --------------  ----- \n",
      " 0   user_id     500 non-null    int64 \n",
      " 1   first_name  500 non-null    object\n",
      " 2   last_name   500 non-null    object\n",
      " 3   age         500 non-null    int64 \n",
      " 4   city        500 non-null    object\n",
      " 5   reg_date    500 non-null    object\n",
      " 6   plan        500 non-null    object\n",
      " 7   churn_date  34 non-null     object\n",
      "dtypes: int64(2), object(6)\n",
      "memory usage: 31.4+ KB\n"
     ]
    }
   ],
   "source": [
    "# Printing the general/summary information about the users' DataFrame\n",
    "\n",
    "users.info()"
   ]
  },
  {
   "cell_type": "markdown",
   "metadata": {},
   "source": [
    "Before we start further analyzing we should convert 'reg_date' column to proper data type."
   ]
  },
  {
   "cell_type": "code",
   "execution_count": 6,
   "metadata": {},
   "outputs": [
    {
     "name": "stdout",
     "output_type": "stream",
     "text": [
      "<class 'pandas.core.frame.DataFrame'>\n",
      "RangeIndex: 500 entries, 0 to 499\n",
      "Data columns (total 8 columns):\n",
      " #   Column      Non-Null Count  Dtype         \n",
      "---  ------      --------------  -----         \n",
      " 0   user_id     500 non-null    int64         \n",
      " 1   first_name  500 non-null    object        \n",
      " 2   last_name   500 non-null    object        \n",
      " 3   age         500 non-null    int64         \n",
      " 4   city        500 non-null    object        \n",
      " 5   reg_date    500 non-null    datetime64[ns]\n",
      " 6   plan        500 non-null    object        \n",
      " 7   churn_date  34 non-null     datetime64[ns]\n",
      "dtypes: datetime64[ns](2), int64(2), object(4)\n",
      "memory usage: 31.4+ KB\n"
     ]
    }
   ],
   "source": [
    "users.reg_date = pd.to_datetime(users.reg_date, format='%Y-%m-%d')\n",
    "users.churn_date = pd.to_datetime(users.churn_date, format='%Y-%m-%d')\n",
    "users.info()"
   ]
  },
  {
   "cell_type": "code",
   "execution_count": 7,
   "metadata": {},
   "outputs": [
    {
     "data": {
      "text/html": [
       "<div>\n",
       "<style scoped>\n",
       "    .dataframe tbody tr th:only-of-type {\n",
       "        vertical-align: middle;\n",
       "    }\n",
       "\n",
       "    .dataframe tbody tr th {\n",
       "        vertical-align: top;\n",
       "    }\n",
       "\n",
       "    .dataframe thead th {\n",
       "        text-align: right;\n",
       "    }\n",
       "</style>\n",
       "<table border=\"1\" class=\"dataframe\">\n",
       "  <thead>\n",
       "    <tr style=\"text-align: right;\">\n",
       "      <th></th>\n",
       "      <th>user_id</th>\n",
       "      <th>first_name</th>\n",
       "      <th>last_name</th>\n",
       "      <th>age</th>\n",
       "      <th>city</th>\n",
       "      <th>reg_date</th>\n",
       "      <th>plan</th>\n",
       "      <th>churn_date</th>\n",
       "    </tr>\n",
       "  </thead>\n",
       "  <tbody>\n",
       "    <tr>\n",
       "      <th>0</th>\n",
       "      <td>1000</td>\n",
       "      <td>Anamaria</td>\n",
       "      <td>Bauer</td>\n",
       "      <td>45</td>\n",
       "      <td>Atlanta-Sandy Springs-Roswell, GA MSA</td>\n",
       "      <td>2018-12-24</td>\n",
       "      <td>ultimate</td>\n",
       "      <td>NaT</td>\n",
       "    </tr>\n",
       "    <tr>\n",
       "      <th>1</th>\n",
       "      <td>1001</td>\n",
       "      <td>Mickey</td>\n",
       "      <td>Wilkerson</td>\n",
       "      <td>28</td>\n",
       "      <td>Seattle-Tacoma-Bellevue, WA MSA</td>\n",
       "      <td>2018-08-13</td>\n",
       "      <td>surf</td>\n",
       "      <td>NaT</td>\n",
       "    </tr>\n",
       "    <tr>\n",
       "      <th>2</th>\n",
       "      <td>1002</td>\n",
       "      <td>Carlee</td>\n",
       "      <td>Hoffman</td>\n",
       "      <td>36</td>\n",
       "      <td>Las Vegas-Henderson-Paradise, NV MSA</td>\n",
       "      <td>2018-10-21</td>\n",
       "      <td>surf</td>\n",
       "      <td>NaT</td>\n",
       "    </tr>\n",
       "    <tr>\n",
       "      <th>3</th>\n",
       "      <td>1003</td>\n",
       "      <td>Reynaldo</td>\n",
       "      <td>Jenkins</td>\n",
       "      <td>52</td>\n",
       "      <td>Tulsa, OK MSA</td>\n",
       "      <td>2018-01-28</td>\n",
       "      <td>surf</td>\n",
       "      <td>NaT</td>\n",
       "    </tr>\n",
       "    <tr>\n",
       "      <th>4</th>\n",
       "      <td>1004</td>\n",
       "      <td>Leonila</td>\n",
       "      <td>Thompson</td>\n",
       "      <td>40</td>\n",
       "      <td>Seattle-Tacoma-Bellevue, WA MSA</td>\n",
       "      <td>2018-05-23</td>\n",
       "      <td>surf</td>\n",
       "      <td>NaT</td>\n",
       "    </tr>\n",
       "    <tr>\n",
       "      <th>5</th>\n",
       "      <td>1005</td>\n",
       "      <td>Livia</td>\n",
       "      <td>Shields</td>\n",
       "      <td>31</td>\n",
       "      <td>Dallas-Fort Worth-Arlington, TX MSA</td>\n",
       "      <td>2018-11-29</td>\n",
       "      <td>surf</td>\n",
       "      <td>NaT</td>\n",
       "    </tr>\n",
       "    <tr>\n",
       "      <th>6</th>\n",
       "      <td>1006</td>\n",
       "      <td>Jesusa</td>\n",
       "      <td>Bradford</td>\n",
       "      <td>73</td>\n",
       "      <td>San Francisco-Oakland-Berkeley, CA MSA</td>\n",
       "      <td>2018-11-27</td>\n",
       "      <td>ultimate</td>\n",
       "      <td>2018-12-18</td>\n",
       "    </tr>\n",
       "    <tr>\n",
       "      <th>7</th>\n",
       "      <td>1007</td>\n",
       "      <td>Eusebio</td>\n",
       "      <td>Welch</td>\n",
       "      <td>42</td>\n",
       "      <td>Grand Rapids-Kentwood, MI MSA</td>\n",
       "      <td>2018-07-11</td>\n",
       "      <td>surf</td>\n",
       "      <td>NaT</td>\n",
       "    </tr>\n",
       "    <tr>\n",
       "      <th>8</th>\n",
       "      <td>1008</td>\n",
       "      <td>Emely</td>\n",
       "      <td>Hoffman</td>\n",
       "      <td>53</td>\n",
       "      <td>Orlando-Kissimmee-Sanford, FL MSA</td>\n",
       "      <td>2018-08-03</td>\n",
       "      <td>ultimate</td>\n",
       "      <td>NaT</td>\n",
       "    </tr>\n",
       "    <tr>\n",
       "      <th>9</th>\n",
       "      <td>1009</td>\n",
       "      <td>Gerry</td>\n",
       "      <td>Little</td>\n",
       "      <td>19</td>\n",
       "      <td>San Jose-Sunnyvale-Santa Clara, CA MSA</td>\n",
       "      <td>2018-04-22</td>\n",
       "      <td>surf</td>\n",
       "      <td>NaT</td>\n",
       "    </tr>\n",
       "    <tr>\n",
       "      <th>10</th>\n",
       "      <td>1010</td>\n",
       "      <td>Wilber</td>\n",
       "      <td>Blair</td>\n",
       "      <td>52</td>\n",
       "      <td>Dallas-Fort Worth-Arlington, TX MSA</td>\n",
       "      <td>2018-03-09</td>\n",
       "      <td>surf</td>\n",
       "      <td>NaT</td>\n",
       "    </tr>\n",
       "    <tr>\n",
       "      <th>11</th>\n",
       "      <td>1011</td>\n",
       "      <td>Halina</td>\n",
       "      <td>Henry</td>\n",
       "      <td>73</td>\n",
       "      <td>Cleveland-Elyria, OH MSA</td>\n",
       "      <td>2018-01-18</td>\n",
       "      <td>ultimate</td>\n",
       "      <td>NaT</td>\n",
       "    </tr>\n",
       "    <tr>\n",
       "      <th>12</th>\n",
       "      <td>1012</td>\n",
       "      <td>Jonelle</td>\n",
       "      <td>Mcbride</td>\n",
       "      <td>59</td>\n",
       "      <td>Chicago-Naperville-Elgin, IL-IN-WI MSA</td>\n",
       "      <td>2018-06-28</td>\n",
       "      <td>surf</td>\n",
       "      <td>2018-11-16</td>\n",
       "    </tr>\n",
       "    <tr>\n",
       "      <th>13</th>\n",
       "      <td>1013</td>\n",
       "      <td>Nicolas</td>\n",
       "      <td>Snider</td>\n",
       "      <td>50</td>\n",
       "      <td>Knoxville, TN MSA</td>\n",
       "      <td>2018-12-01</td>\n",
       "      <td>ultimate</td>\n",
       "      <td>NaT</td>\n",
       "    </tr>\n",
       "    <tr>\n",
       "      <th>14</th>\n",
       "      <td>1014</td>\n",
       "      <td>Edmundo</td>\n",
       "      <td>Simon</td>\n",
       "      <td>61</td>\n",
       "      <td>New York-Newark-Jersey City, NY-NJ-PA MSA</td>\n",
       "      <td>2018-11-25</td>\n",
       "      <td>surf</td>\n",
       "      <td>NaT</td>\n",
       "    </tr>\n",
       "    <tr>\n",
       "      <th>15</th>\n",
       "      <td>1015</td>\n",
       "      <td>Beata</td>\n",
       "      <td>Carpenter</td>\n",
       "      <td>26</td>\n",
       "      <td>Pittsburgh, PA MSA</td>\n",
       "      <td>2018-12-05</td>\n",
       "      <td>surf</td>\n",
       "      <td>NaT</td>\n",
       "    </tr>\n",
       "    <tr>\n",
       "      <th>16</th>\n",
       "      <td>1016</td>\n",
       "      <td>Jann</td>\n",
       "      <td>Salinas</td>\n",
       "      <td>30</td>\n",
       "      <td>Fresno, CA MSA</td>\n",
       "      <td>2018-10-25</td>\n",
       "      <td>surf</td>\n",
       "      <td>NaT</td>\n",
       "    </tr>\n",
       "    <tr>\n",
       "      <th>17</th>\n",
       "      <td>1017</td>\n",
       "      <td>Boris</td>\n",
       "      <td>Gates</td>\n",
       "      <td>61</td>\n",
       "      <td>Washington-Arlington-Alexandria, DC-VA-MD-WV MSA</td>\n",
       "      <td>2018-08-26</td>\n",
       "      <td>surf</td>\n",
       "      <td>NaT</td>\n",
       "    </tr>\n",
       "    <tr>\n",
       "      <th>18</th>\n",
       "      <td>1018</td>\n",
       "      <td>Dennis</td>\n",
       "      <td>Grimes</td>\n",
       "      <td>70</td>\n",
       "      <td>Indianapolis-Carmel-Anderson, IN MSA</td>\n",
       "      <td>2018-10-17</td>\n",
       "      <td>surf</td>\n",
       "      <td>NaT</td>\n",
       "    </tr>\n",
       "    <tr>\n",
       "      <th>19</th>\n",
       "      <td>1019</td>\n",
       "      <td>Shizue</td>\n",
       "      <td>Landry</td>\n",
       "      <td>34</td>\n",
       "      <td>Jacksonville, FL MSA</td>\n",
       "      <td>2018-01-16</td>\n",
       "      <td>surf</td>\n",
       "      <td>NaT</td>\n",
       "    </tr>\n",
       "  </tbody>\n",
       "</table>\n",
       "</div>"
      ],
      "text/plain": [
       "    user_id first_name  last_name  age  \\\n",
       "0      1000   Anamaria      Bauer   45   \n",
       "1      1001     Mickey  Wilkerson   28   \n",
       "2      1002     Carlee    Hoffman   36   \n",
       "3      1003   Reynaldo    Jenkins   52   \n",
       "4      1004    Leonila   Thompson   40   \n",
       "5      1005      Livia    Shields   31   \n",
       "6      1006     Jesusa   Bradford   73   \n",
       "7      1007    Eusebio      Welch   42   \n",
       "8      1008      Emely    Hoffman   53   \n",
       "9      1009      Gerry     Little   19   \n",
       "10     1010     Wilber      Blair   52   \n",
       "11     1011     Halina      Henry   73   \n",
       "12     1012    Jonelle    Mcbride   59   \n",
       "13     1013    Nicolas     Snider   50   \n",
       "14     1014    Edmundo      Simon   61   \n",
       "15     1015      Beata  Carpenter   26   \n",
       "16     1016       Jann    Salinas   30   \n",
       "17     1017      Boris      Gates   61   \n",
       "18     1018     Dennis     Grimes   70   \n",
       "19     1019     Shizue     Landry   34   \n",
       "\n",
       "                                                city   reg_date      plan  \\\n",
       "0              Atlanta-Sandy Springs-Roswell, GA MSA 2018-12-24  ultimate   \n",
       "1                    Seattle-Tacoma-Bellevue, WA MSA 2018-08-13      surf   \n",
       "2               Las Vegas-Henderson-Paradise, NV MSA 2018-10-21      surf   \n",
       "3                                      Tulsa, OK MSA 2018-01-28      surf   \n",
       "4                    Seattle-Tacoma-Bellevue, WA MSA 2018-05-23      surf   \n",
       "5                Dallas-Fort Worth-Arlington, TX MSA 2018-11-29      surf   \n",
       "6             San Francisco-Oakland-Berkeley, CA MSA 2018-11-27  ultimate   \n",
       "7                      Grand Rapids-Kentwood, MI MSA 2018-07-11      surf   \n",
       "8                  Orlando-Kissimmee-Sanford, FL MSA 2018-08-03  ultimate   \n",
       "9             San Jose-Sunnyvale-Santa Clara, CA MSA 2018-04-22      surf   \n",
       "10               Dallas-Fort Worth-Arlington, TX MSA 2018-03-09      surf   \n",
       "11                          Cleveland-Elyria, OH MSA 2018-01-18  ultimate   \n",
       "12            Chicago-Naperville-Elgin, IL-IN-WI MSA 2018-06-28      surf   \n",
       "13                                 Knoxville, TN MSA 2018-12-01  ultimate   \n",
       "14         New York-Newark-Jersey City, NY-NJ-PA MSA 2018-11-25      surf   \n",
       "15                                Pittsburgh, PA MSA 2018-12-05      surf   \n",
       "16                                    Fresno, CA MSA 2018-10-25      surf   \n",
       "17  Washington-Arlington-Alexandria, DC-VA-MD-WV MSA 2018-08-26      surf   \n",
       "18              Indianapolis-Carmel-Anderson, IN MSA 2018-10-17      surf   \n",
       "19                              Jacksonville, FL MSA 2018-01-16      surf   \n",
       "\n",
       "   churn_date  \n",
       "0         NaT  \n",
       "1         NaT  \n",
       "2         NaT  \n",
       "3         NaT  \n",
       "4         NaT  \n",
       "5         NaT  \n",
       "6  2018-12-18  \n",
       "7         NaT  \n",
       "8         NaT  \n",
       "9         NaT  \n",
       "10        NaT  \n",
       "11        NaT  \n",
       "12 2018-11-16  \n",
       "13        NaT  \n",
       "14        NaT  \n",
       "15        NaT  \n",
       "16        NaT  \n",
       "17        NaT  \n",
       "18        NaT  \n",
       "19        NaT  "
      ]
     },
     "execution_count": 7,
     "metadata": {},
     "output_type": "execute_result"
    }
   ],
   "source": [
    "# Printing a sample of data for users\n",
    "\n",
    "users.head(20)"
   ]
  },
  {
   "cell_type": "markdown",
   "metadata": {},
   "source": [
    "We can print the exact ammount of people for both of our plans."
   ]
  },
  {
   "cell_type": "code",
   "execution_count": 8,
   "metadata": {},
   "outputs": [
    {
     "data": {
      "text/plain": [
       "surf        339\n",
       "ultimate    161\n",
       "Name: plan, dtype: int64"
      ]
     },
     "execution_count": 8,
     "metadata": {},
     "output_type": "execute_result"
    }
   ],
   "source": [
    "users.plan.value_counts()"
   ]
  },
  {
   "cell_type": "markdown",
   "metadata": {},
   "source": [
    "'Serf' plan is more popular than 'ultimate'. We don't know which ones bring in more value yet, but for now it seems that 'serf' is.\n",
    "\n",
    "We're still far from testing our hypothesis, let's continue on. We have the plan names in 'plan' column and we'd rather see them as boolean values since there's only 2 options."
   ]
  },
  {
   "cell_type": "code",
   "execution_count": 9,
   "metadata": {},
   "outputs": [],
   "source": [
    "# Converting the column 'plan' to binary with the help of dictionaries\n",
    "\n",
    "plan = {\n",
    "    'surf': 0,\n",
    "    'ultimate': 1\n",
    "}"
   ]
  },
  {
   "cell_type": "code",
   "execution_count": 10,
   "metadata": {},
   "outputs": [
    {
     "name": "stdout",
     "output_type": "stream",
     "text": [
      "<class 'pandas.core.frame.DataFrame'>\n",
      "RangeIndex: 500 entries, 0 to 499\n",
      "Data columns (total 8 columns):\n",
      " #   Column      Non-Null Count  Dtype         \n",
      "---  ------      --------------  -----         \n",
      " 0   user_id     500 non-null    int64         \n",
      " 1   first_name  500 non-null    object        \n",
      " 2   last_name   500 non-null    object        \n",
      " 3   age         500 non-null    int64         \n",
      " 4   city        500 non-null    object        \n",
      " 5   reg_date    500 non-null    datetime64[ns]\n",
      " 6   plan        500 non-null    bool          \n",
      " 7   churn_date  34 non-null     datetime64[ns]\n",
      "dtypes: bool(1), datetime64[ns](2), int64(2), object(3)\n",
      "memory usage: 28.0+ KB\n"
     ]
    }
   ],
   "source": [
    "# Replacing object values with boolean\n",
    "\n",
    "users.plan = users.plan.apply(lambda x: plan[x]).astype(bool)\n",
    "users.info()"
   ]
  },
  {
   "cell_type": "code",
   "execution_count": 11,
   "metadata": {},
   "outputs": [
    {
     "data": {
      "text/html": [
       "<div>\n",
       "<style scoped>\n",
       "    .dataframe tbody tr th:only-of-type {\n",
       "        vertical-align: middle;\n",
       "    }\n",
       "\n",
       "    .dataframe tbody tr th {\n",
       "        vertical-align: top;\n",
       "    }\n",
       "\n",
       "    .dataframe thead th {\n",
       "        text-align: right;\n",
       "    }\n",
       "</style>\n",
       "<table border=\"1\" class=\"dataframe\">\n",
       "  <thead>\n",
       "    <tr style=\"text-align: right;\">\n",
       "      <th></th>\n",
       "      <th>user_id</th>\n",
       "      <th>first_name</th>\n",
       "      <th>last_name</th>\n",
       "      <th>age</th>\n",
       "      <th>city</th>\n",
       "      <th>reg_date</th>\n",
       "      <th>is_ult</th>\n",
       "      <th>churn_date</th>\n",
       "    </tr>\n",
       "  </thead>\n",
       "  <tbody>\n",
       "    <tr>\n",
       "      <th>0</th>\n",
       "      <td>1000</td>\n",
       "      <td>Anamaria</td>\n",
       "      <td>Bauer</td>\n",
       "      <td>45</td>\n",
       "      <td>Atlanta-Sandy Springs-Roswell, GA MSA</td>\n",
       "      <td>2018-12-24</td>\n",
       "      <td>True</td>\n",
       "      <td>NaT</td>\n",
       "    </tr>\n",
       "    <tr>\n",
       "      <th>1</th>\n",
       "      <td>1001</td>\n",
       "      <td>Mickey</td>\n",
       "      <td>Wilkerson</td>\n",
       "      <td>28</td>\n",
       "      <td>Seattle-Tacoma-Bellevue, WA MSA</td>\n",
       "      <td>2018-08-13</td>\n",
       "      <td>False</td>\n",
       "      <td>NaT</td>\n",
       "    </tr>\n",
       "    <tr>\n",
       "      <th>2</th>\n",
       "      <td>1002</td>\n",
       "      <td>Carlee</td>\n",
       "      <td>Hoffman</td>\n",
       "      <td>36</td>\n",
       "      <td>Las Vegas-Henderson-Paradise, NV MSA</td>\n",
       "      <td>2018-10-21</td>\n",
       "      <td>False</td>\n",
       "      <td>NaT</td>\n",
       "    </tr>\n",
       "    <tr>\n",
       "      <th>3</th>\n",
       "      <td>1003</td>\n",
       "      <td>Reynaldo</td>\n",
       "      <td>Jenkins</td>\n",
       "      <td>52</td>\n",
       "      <td>Tulsa, OK MSA</td>\n",
       "      <td>2018-01-28</td>\n",
       "      <td>False</td>\n",
       "      <td>NaT</td>\n",
       "    </tr>\n",
       "    <tr>\n",
       "      <th>4</th>\n",
       "      <td>1004</td>\n",
       "      <td>Leonila</td>\n",
       "      <td>Thompson</td>\n",
       "      <td>40</td>\n",
       "      <td>Seattle-Tacoma-Bellevue, WA MSA</td>\n",
       "      <td>2018-05-23</td>\n",
       "      <td>False</td>\n",
       "      <td>NaT</td>\n",
       "    </tr>\n",
       "  </tbody>\n",
       "</table>\n",
       "</div>"
      ],
      "text/plain": [
       "   user_id first_name  last_name  age                                   city  \\\n",
       "0     1000   Anamaria      Bauer   45  Atlanta-Sandy Springs-Roswell, GA MSA   \n",
       "1     1001     Mickey  Wilkerson   28        Seattle-Tacoma-Bellevue, WA MSA   \n",
       "2     1002     Carlee    Hoffman   36   Las Vegas-Henderson-Paradise, NV MSA   \n",
       "3     1003   Reynaldo    Jenkins   52                          Tulsa, OK MSA   \n",
       "4     1004    Leonila   Thompson   40        Seattle-Tacoma-Bellevue, WA MSA   \n",
       "\n",
       "    reg_date  is_ult churn_date  \n",
       "0 2018-12-24    True        NaT  \n",
       "1 2018-08-13   False        NaT  \n",
       "2 2018-10-21   False        NaT  \n",
       "3 2018-01-28   False        NaT  \n",
       "4 2018-05-23   False        NaT  "
      ]
     },
     "execution_count": 11,
     "metadata": {},
     "output_type": "execute_result"
    }
   ],
   "source": [
    "# Renaming 'plan' column\n",
    "\n",
    "users.rename(columns={'plan': 'is_ult'}, inplace=True)\n",
    "users.head(5)"
   ]
  },
  {
   "cell_type": "markdown",
   "metadata": {},
   "source": [
    "## Calls"
   ]
  },
  {
   "cell_type": "code",
   "execution_count": 12,
   "metadata": {},
   "outputs": [
    {
     "name": "stdout",
     "output_type": "stream",
     "text": [
      "<class 'pandas.core.frame.DataFrame'>\n",
      "RangeIndex: 137735 entries, 0 to 137734\n",
      "Data columns (total 4 columns):\n",
      " #   Column     Non-Null Count   Dtype         \n",
      "---  ------     --------------   -----         \n",
      " 0   id         137735 non-null  object        \n",
      " 1   user_id    137735 non-null  int64         \n",
      " 2   call_date  137735 non-null  datetime64[ns]\n",
      " 3   duration   137735 non-null  float64       \n",
      "dtypes: datetime64[ns](1), float64(1), int64(1), object(1)\n",
      "memory usage: 4.2+ MB\n"
     ]
    }
   ],
   "source": [
    "# Printing the general/summary information about the calls' DataFrame\n",
    "\n",
    "calls.call_date = pd.to_datetime(calls.call_date, format='%Y-%m-%d')\n",
    "calls.info()"
   ]
  },
  {
   "cell_type": "markdown",
   "metadata": {},
   "source": [
    "I alredy converted the 'call_date' column data type to a better one, so let's add a new column to this dataframe that will indicated the numeral value of the month for each call."
   ]
  },
  {
   "cell_type": "code",
   "execution_count": 13,
   "metadata": {},
   "outputs": [],
   "source": [
    "# Adding a column\n",
    "\n",
    "calls['month'] = calls.call_date.dt.month"
   ]
  },
  {
   "cell_type": "code",
   "execution_count": 14,
   "metadata": {},
   "outputs": [
    {
     "data": {
      "text/html": [
       "<div>\n",
       "<style scoped>\n",
       "    .dataframe tbody tr th:only-of-type {\n",
       "        vertical-align: middle;\n",
       "    }\n",
       "\n",
       "    .dataframe tbody tr th {\n",
       "        vertical-align: top;\n",
       "    }\n",
       "\n",
       "    .dataframe thead th {\n",
       "        text-align: right;\n",
       "    }\n",
       "</style>\n",
       "<table border=\"1\" class=\"dataframe\">\n",
       "  <thead>\n",
       "    <tr style=\"text-align: right;\">\n",
       "      <th></th>\n",
       "      <th>id</th>\n",
       "      <th>user_id</th>\n",
       "      <th>call_date</th>\n",
       "      <th>duration</th>\n",
       "      <th>month</th>\n",
       "    </tr>\n",
       "  </thead>\n",
       "  <tbody>\n",
       "    <tr>\n",
       "      <th>0</th>\n",
       "      <td>1000_93</td>\n",
       "      <td>1000</td>\n",
       "      <td>2018-12-27</td>\n",
       "      <td>8.52</td>\n",
       "      <td>12</td>\n",
       "    </tr>\n",
       "    <tr>\n",
       "      <th>1</th>\n",
       "      <td>1000_145</td>\n",
       "      <td>1000</td>\n",
       "      <td>2018-12-27</td>\n",
       "      <td>13.66</td>\n",
       "      <td>12</td>\n",
       "    </tr>\n",
       "    <tr>\n",
       "      <th>2</th>\n",
       "      <td>1000_247</td>\n",
       "      <td>1000</td>\n",
       "      <td>2018-12-27</td>\n",
       "      <td>14.48</td>\n",
       "      <td>12</td>\n",
       "    </tr>\n",
       "    <tr>\n",
       "      <th>3</th>\n",
       "      <td>1000_309</td>\n",
       "      <td>1000</td>\n",
       "      <td>2018-12-28</td>\n",
       "      <td>5.76</td>\n",
       "      <td>12</td>\n",
       "    </tr>\n",
       "    <tr>\n",
       "      <th>4</th>\n",
       "      <td>1000_380</td>\n",
       "      <td>1000</td>\n",
       "      <td>2018-12-30</td>\n",
       "      <td>4.22</td>\n",
       "      <td>12</td>\n",
       "    </tr>\n",
       "    <tr>\n",
       "      <th>5</th>\n",
       "      <td>1000_388</td>\n",
       "      <td>1000</td>\n",
       "      <td>2018-12-31</td>\n",
       "      <td>2.20</td>\n",
       "      <td>12</td>\n",
       "    </tr>\n",
       "    <tr>\n",
       "      <th>6</th>\n",
       "      <td>1000_510</td>\n",
       "      <td>1000</td>\n",
       "      <td>2018-12-27</td>\n",
       "      <td>5.75</td>\n",
       "      <td>12</td>\n",
       "    </tr>\n",
       "    <tr>\n",
       "      <th>7</th>\n",
       "      <td>1000_521</td>\n",
       "      <td>1000</td>\n",
       "      <td>2018-12-28</td>\n",
       "      <td>14.18</td>\n",
       "      <td>12</td>\n",
       "    </tr>\n",
       "    <tr>\n",
       "      <th>8</th>\n",
       "      <td>1000_530</td>\n",
       "      <td>1000</td>\n",
       "      <td>2018-12-28</td>\n",
       "      <td>5.77</td>\n",
       "      <td>12</td>\n",
       "    </tr>\n",
       "    <tr>\n",
       "      <th>9</th>\n",
       "      <td>1000_544</td>\n",
       "      <td>1000</td>\n",
       "      <td>2018-12-26</td>\n",
       "      <td>4.40</td>\n",
       "      <td>12</td>\n",
       "    </tr>\n",
       "    <tr>\n",
       "      <th>10</th>\n",
       "      <td>1000_693</td>\n",
       "      <td>1000</td>\n",
       "      <td>2018-12-31</td>\n",
       "      <td>4.31</td>\n",
       "      <td>12</td>\n",
       "    </tr>\n",
       "    <tr>\n",
       "      <th>11</th>\n",
       "      <td>1000_705</td>\n",
       "      <td>1000</td>\n",
       "      <td>2018-12-31</td>\n",
       "      <td>12.78</td>\n",
       "      <td>12</td>\n",
       "    </tr>\n",
       "    <tr>\n",
       "      <th>12</th>\n",
       "      <td>1000_735</td>\n",
       "      <td>1000</td>\n",
       "      <td>2018-12-29</td>\n",
       "      <td>1.70</td>\n",
       "      <td>12</td>\n",
       "    </tr>\n",
       "    <tr>\n",
       "      <th>13</th>\n",
       "      <td>1000_778</td>\n",
       "      <td>1000</td>\n",
       "      <td>2018-12-28</td>\n",
       "      <td>3.29</td>\n",
       "      <td>12</td>\n",
       "    </tr>\n",
       "    <tr>\n",
       "      <th>14</th>\n",
       "      <td>1000_826</td>\n",
       "      <td>1000</td>\n",
       "      <td>2018-12-26</td>\n",
       "      <td>9.96</td>\n",
       "      <td>12</td>\n",
       "    </tr>\n",
       "  </tbody>\n",
       "</table>\n",
       "</div>"
      ],
      "text/plain": [
       "          id  user_id  call_date  duration  month\n",
       "0    1000_93     1000 2018-12-27      8.52     12\n",
       "1   1000_145     1000 2018-12-27     13.66     12\n",
       "2   1000_247     1000 2018-12-27     14.48     12\n",
       "3   1000_309     1000 2018-12-28      5.76     12\n",
       "4   1000_380     1000 2018-12-30      4.22     12\n",
       "5   1000_388     1000 2018-12-31      2.20     12\n",
       "6   1000_510     1000 2018-12-27      5.75     12\n",
       "7   1000_521     1000 2018-12-28     14.18     12\n",
       "8   1000_530     1000 2018-12-28      5.77     12\n",
       "9   1000_544     1000 2018-12-26      4.40     12\n",
       "10  1000_693     1000 2018-12-31      4.31     12\n",
       "11  1000_705     1000 2018-12-31     12.78     12\n",
       "12  1000_735     1000 2018-12-29      1.70     12\n",
       "13  1000_778     1000 2018-12-28      3.29     12\n",
       "14  1000_826     1000 2018-12-26      9.96     12"
      ]
     },
     "execution_count": 14,
     "metadata": {},
     "output_type": "execute_result"
    }
   ],
   "source": [
    "# Printing a sample of data for calls\n",
    "\n",
    "calls.head(15)"
   ]
  },
  {
   "cell_type": "markdown",
   "metadata": {},
   "source": [
    "Great, now we can take a look at some users's total call durations per month. We'll use it later."
   ]
  },
  {
   "cell_type": "code",
   "execution_count": 15,
   "metadata": {},
   "outputs": [
    {
     "data": {
      "text/plain": [
       "user_id  month\n",
       "1267     12       1431.22\n",
       "1329     12       1292.09\n",
       "1365     12       1283.20\n",
       "1324     11       1234.57\n",
       "1382     12       1222.37\n",
       "                   ...   \n",
       "1306     11          4.60\n",
       "1414     8           3.90\n",
       "1339     9           1.20\n",
       "1407     11          0.00\n",
       "1094     10          0.00\n",
       "Name: duration, Length: 2258, dtype: float64"
      ]
     },
     "execution_count": 15,
     "metadata": {},
     "output_type": "execute_result"
    }
   ],
   "source": [
    "calls.groupby(by=['user_id','month'])['duration'].sum().sort_values(ascending=False)"
   ]
  },
  {
   "cell_type": "markdown",
   "metadata": {},
   "source": [
    "## Messages"
   ]
  },
  {
   "cell_type": "code",
   "execution_count": 16,
   "metadata": {},
   "outputs": [
    {
     "name": "stdout",
     "output_type": "stream",
     "text": [
      "<class 'pandas.core.frame.DataFrame'>\n",
      "RangeIndex: 76051 entries, 0 to 76050\n",
      "Data columns (total 3 columns):\n",
      " #   Column        Non-Null Count  Dtype         \n",
      "---  ------        --------------  -----         \n",
      " 0   id            76051 non-null  object        \n",
      " 1   user_id       76051 non-null  int64         \n",
      " 2   message_date  76051 non-null  datetime64[ns]\n",
      "dtypes: datetime64[ns](1), int64(1), object(1)\n",
      "memory usage: 1.7+ MB\n"
     ]
    }
   ],
   "source": [
    "# Print the general/summary information about the messages' DataFrame\n",
    "\n",
    "msg.message_date = pd.to_datetime(msg.message_date, format='%Y-%m-%d')\n",
    "msg.info()"
   ]
  },
  {
   "cell_type": "markdown",
   "metadata": {},
   "source": [
    "Like in our previous dataframe, I converted the date column from simple object to DateTime. Now let's add month column to this dataframe aswell."
   ]
  },
  {
   "cell_type": "code",
   "execution_count": 17,
   "metadata": {},
   "outputs": [],
   "source": [
    "# Adding a column\n",
    "\n",
    "msg['month'] = msg.message_date.dt.month"
   ]
  },
  {
   "cell_type": "code",
   "execution_count": 18,
   "metadata": {},
   "outputs": [
    {
     "data": {
      "text/html": [
       "<div>\n",
       "<style scoped>\n",
       "    .dataframe tbody tr th:only-of-type {\n",
       "        vertical-align: middle;\n",
       "    }\n",
       "\n",
       "    .dataframe tbody tr th {\n",
       "        vertical-align: top;\n",
       "    }\n",
       "\n",
       "    .dataframe thead th {\n",
       "        text-align: right;\n",
       "    }\n",
       "</style>\n",
       "<table border=\"1\" class=\"dataframe\">\n",
       "  <thead>\n",
       "    <tr style=\"text-align: right;\">\n",
       "      <th></th>\n",
       "      <th>id</th>\n",
       "      <th>user_id</th>\n",
       "      <th>message_date</th>\n",
       "      <th>month</th>\n",
       "    </tr>\n",
       "  </thead>\n",
       "  <tbody>\n",
       "    <tr>\n",
       "      <th>0</th>\n",
       "      <td>1000_125</td>\n",
       "      <td>1000</td>\n",
       "      <td>2018-12-27</td>\n",
       "      <td>12</td>\n",
       "    </tr>\n",
       "    <tr>\n",
       "      <th>1</th>\n",
       "      <td>1000_160</td>\n",
       "      <td>1000</td>\n",
       "      <td>2018-12-31</td>\n",
       "      <td>12</td>\n",
       "    </tr>\n",
       "    <tr>\n",
       "      <th>2</th>\n",
       "      <td>1000_223</td>\n",
       "      <td>1000</td>\n",
       "      <td>2018-12-31</td>\n",
       "      <td>12</td>\n",
       "    </tr>\n",
       "    <tr>\n",
       "      <th>3</th>\n",
       "      <td>1000_251</td>\n",
       "      <td>1000</td>\n",
       "      <td>2018-12-27</td>\n",
       "      <td>12</td>\n",
       "    </tr>\n",
       "    <tr>\n",
       "      <th>4</th>\n",
       "      <td>1000_255</td>\n",
       "      <td>1000</td>\n",
       "      <td>2018-12-26</td>\n",
       "      <td>12</td>\n",
       "    </tr>\n",
       "  </tbody>\n",
       "</table>\n",
       "</div>"
      ],
      "text/plain": [
       "         id  user_id message_date  month\n",
       "0  1000_125     1000   2018-12-27     12\n",
       "1  1000_160     1000   2018-12-31     12\n",
       "2  1000_223     1000   2018-12-31     12\n",
       "3  1000_251     1000   2018-12-27     12\n",
       "4  1000_255     1000   2018-12-26     12"
      ]
     },
     "execution_count": 18,
     "metadata": {},
     "output_type": "execute_result"
    }
   ],
   "source": [
    "# Printing a sample of data for messages\n",
    "\n",
    "msg.head(5)"
   ]
  },
  {
   "cell_type": "markdown",
   "metadata": {},
   "source": [
    "We can take a peek at some values for messaging here. Very interesting."
   ]
  },
  {
   "cell_type": "code",
   "execution_count": 19,
   "metadata": {},
   "outputs": [
    {
     "data": {
      "text/plain": [
       "user_id  month\n",
       "1052     12       266\n",
       "1381     10       224\n",
       "         11       180\n",
       "1328     12       168\n",
       "1132     11       166\n",
       "                 ... \n",
       "1123     6          1\n",
       "1263     12         1\n",
       "1484     11         1\n",
       "1263     11         1\n",
       "1407     11         1\n",
       "Name: id, Length: 1806, dtype: int64"
      ]
     },
     "execution_count": 19,
     "metadata": {},
     "output_type": "execute_result"
    }
   ],
   "source": [
    "msg.groupby(by=['user_id','month'])['id'].count().sort_values(ascending=False)"
   ]
  },
  {
   "cell_type": "markdown",
   "metadata": {},
   "source": [
    "## Internet"
   ]
  },
  {
   "cell_type": "code",
   "execution_count": 20,
   "metadata": {},
   "outputs": [
    {
     "name": "stdout",
     "output_type": "stream",
     "text": [
      "<class 'pandas.core.frame.DataFrame'>\n",
      "RangeIndex: 104825 entries, 0 to 104824\n",
      "Data columns (total 4 columns):\n",
      " #   Column        Non-Null Count   Dtype         \n",
      "---  ------        --------------   -----         \n",
      " 0   id            104825 non-null  object        \n",
      " 1   user_id       104825 non-null  int64         \n",
      " 2   session_date  104825 non-null  datetime64[ns]\n",
      " 3   mb_used       104825 non-null  float64       \n",
      "dtypes: datetime64[ns](1), float64(1), int64(1), object(1)\n",
      "memory usage: 3.2+ MB\n"
     ]
    }
   ],
   "source": [
    "# Printing the general/summary information about the internet DataFrame\n",
    "\n",
    "intnet.session_date = pd.to_datetime(intnet.session_date, format='%Y-%m-%d')\n",
    "intnet.info()"
   ]
  },
  {
   "cell_type": "code",
   "execution_count": 21,
   "metadata": {},
   "outputs": [],
   "source": [
    "# Adding a column\n",
    "\n",
    "intnet['month'] = intnet.session_date.dt.month"
   ]
  },
  {
   "cell_type": "code",
   "execution_count": 22,
   "metadata": {},
   "outputs": [
    {
     "data": {
      "text/html": [
       "<div>\n",
       "<style scoped>\n",
       "    .dataframe tbody tr th:only-of-type {\n",
       "        vertical-align: middle;\n",
       "    }\n",
       "\n",
       "    .dataframe tbody tr th {\n",
       "        vertical-align: top;\n",
       "    }\n",
       "\n",
       "    .dataframe thead th {\n",
       "        text-align: right;\n",
       "    }\n",
       "</style>\n",
       "<table border=\"1\" class=\"dataframe\">\n",
       "  <thead>\n",
       "    <tr style=\"text-align: right;\">\n",
       "      <th></th>\n",
       "      <th>id</th>\n",
       "      <th>user_id</th>\n",
       "      <th>session_date</th>\n",
       "      <th>mb_used</th>\n",
       "      <th>month</th>\n",
       "    </tr>\n",
       "  </thead>\n",
       "  <tbody>\n",
       "    <tr>\n",
       "      <th>0</th>\n",
       "      <td>1000_13</td>\n",
       "      <td>1000</td>\n",
       "      <td>2018-12-29</td>\n",
       "      <td>89.86</td>\n",
       "      <td>12</td>\n",
       "    </tr>\n",
       "    <tr>\n",
       "      <th>1</th>\n",
       "      <td>1000_204</td>\n",
       "      <td>1000</td>\n",
       "      <td>2018-12-31</td>\n",
       "      <td>0.00</td>\n",
       "      <td>12</td>\n",
       "    </tr>\n",
       "    <tr>\n",
       "      <th>2</th>\n",
       "      <td>1000_379</td>\n",
       "      <td>1000</td>\n",
       "      <td>2018-12-28</td>\n",
       "      <td>660.40</td>\n",
       "      <td>12</td>\n",
       "    </tr>\n",
       "    <tr>\n",
       "      <th>3</th>\n",
       "      <td>1000_413</td>\n",
       "      <td>1000</td>\n",
       "      <td>2018-12-26</td>\n",
       "      <td>270.99</td>\n",
       "      <td>12</td>\n",
       "    </tr>\n",
       "    <tr>\n",
       "      <th>4</th>\n",
       "      <td>1000_442</td>\n",
       "      <td>1000</td>\n",
       "      <td>2018-12-27</td>\n",
       "      <td>880.22</td>\n",
       "      <td>12</td>\n",
       "    </tr>\n",
       "    <tr>\n",
       "      <th>5</th>\n",
       "      <td>1001_0</td>\n",
       "      <td>1001</td>\n",
       "      <td>2018-08-24</td>\n",
       "      <td>284.68</td>\n",
       "      <td>8</td>\n",
       "    </tr>\n",
       "    <tr>\n",
       "      <th>6</th>\n",
       "      <td>1001_3</td>\n",
       "      <td>1001</td>\n",
       "      <td>2018-12-09</td>\n",
       "      <td>656.04</td>\n",
       "      <td>12</td>\n",
       "    </tr>\n",
       "    <tr>\n",
       "      <th>7</th>\n",
       "      <td>1001_4</td>\n",
       "      <td>1001</td>\n",
       "      <td>2018-11-04</td>\n",
       "      <td>16.97</td>\n",
       "      <td>11</td>\n",
       "    </tr>\n",
       "    <tr>\n",
       "      <th>8</th>\n",
       "      <td>1001_10</td>\n",
       "      <td>1001</td>\n",
       "      <td>2018-11-27</td>\n",
       "      <td>135.18</td>\n",
       "      <td>11</td>\n",
       "    </tr>\n",
       "    <tr>\n",
       "      <th>9</th>\n",
       "      <td>1001_15</td>\n",
       "      <td>1001</td>\n",
       "      <td>2018-12-13</td>\n",
       "      <td>761.92</td>\n",
       "      <td>12</td>\n",
       "    </tr>\n",
       "    <tr>\n",
       "      <th>10</th>\n",
       "      <td>1001_16</td>\n",
       "      <td>1001</td>\n",
       "      <td>2018-10-28</td>\n",
       "      <td>501.53</td>\n",
       "      <td>10</td>\n",
       "    </tr>\n",
       "    <tr>\n",
       "      <th>11</th>\n",
       "      <td>1001_17</td>\n",
       "      <td>1001</td>\n",
       "      <td>2018-09-05</td>\n",
       "      <td>727.29</td>\n",
       "      <td>9</td>\n",
       "    </tr>\n",
       "    <tr>\n",
       "      <th>12</th>\n",
       "      <td>1001_24</td>\n",
       "      <td>1001</td>\n",
       "      <td>2018-09-05</td>\n",
       "      <td>622.03</td>\n",
       "      <td>9</td>\n",
       "    </tr>\n",
       "    <tr>\n",
       "      <th>13</th>\n",
       "      <td>1001_25</td>\n",
       "      <td>1001</td>\n",
       "      <td>2018-10-14</td>\n",
       "      <td>310.43</td>\n",
       "      <td>10</td>\n",
       "    </tr>\n",
       "    <tr>\n",
       "      <th>14</th>\n",
       "      <td>1001_26</td>\n",
       "      <td>1001</td>\n",
       "      <td>2018-09-17</td>\n",
       "      <td>0.00</td>\n",
       "      <td>9</td>\n",
       "    </tr>\n",
       "    <tr>\n",
       "      <th>15</th>\n",
       "      <td>1001_27</td>\n",
       "      <td>1001</td>\n",
       "      <td>2018-12-13</td>\n",
       "      <td>149.17</td>\n",
       "      <td>12</td>\n",
       "    </tr>\n",
       "    <tr>\n",
       "      <th>16</th>\n",
       "      <td>1001_28</td>\n",
       "      <td>1001</td>\n",
       "      <td>2018-10-17</td>\n",
       "      <td>0.00</td>\n",
       "      <td>10</td>\n",
       "    </tr>\n",
       "    <tr>\n",
       "      <th>17</th>\n",
       "      <td>1001_29</td>\n",
       "      <td>1001</td>\n",
       "      <td>2018-10-09</td>\n",
       "      <td>1067.99</td>\n",
       "      <td>10</td>\n",
       "    </tr>\n",
       "    <tr>\n",
       "      <th>18</th>\n",
       "      <td>1001_30</td>\n",
       "      <td>1001</td>\n",
       "      <td>2018-12-27</td>\n",
       "      <td>157.20</td>\n",
       "      <td>12</td>\n",
       "    </tr>\n",
       "    <tr>\n",
       "      <th>19</th>\n",
       "      <td>1001_33</td>\n",
       "      <td>1001</td>\n",
       "      <td>2018-09-27</td>\n",
       "      <td>236.40</td>\n",
       "      <td>9</td>\n",
       "    </tr>\n",
       "  </tbody>\n",
       "</table>\n",
       "</div>"
      ],
      "text/plain": [
       "          id  user_id session_date  mb_used  month\n",
       "0    1000_13     1000   2018-12-29    89.86     12\n",
       "1   1000_204     1000   2018-12-31     0.00     12\n",
       "2   1000_379     1000   2018-12-28   660.40     12\n",
       "3   1000_413     1000   2018-12-26   270.99     12\n",
       "4   1000_442     1000   2018-12-27   880.22     12\n",
       "5     1001_0     1001   2018-08-24   284.68      8\n",
       "6     1001_3     1001   2018-12-09   656.04     12\n",
       "7     1001_4     1001   2018-11-04    16.97     11\n",
       "8    1001_10     1001   2018-11-27   135.18     11\n",
       "9    1001_15     1001   2018-12-13   761.92     12\n",
       "10   1001_16     1001   2018-10-28   501.53     10\n",
       "11   1001_17     1001   2018-09-05   727.29      9\n",
       "12   1001_24     1001   2018-09-05   622.03      9\n",
       "13   1001_25     1001   2018-10-14   310.43     10\n",
       "14   1001_26     1001   2018-09-17     0.00      9\n",
       "15   1001_27     1001   2018-12-13   149.17     12\n",
       "16   1001_28     1001   2018-10-17     0.00     10\n",
       "17   1001_29     1001   2018-10-09  1067.99     10\n",
       "18   1001_30     1001   2018-12-27   157.20     12\n",
       "19   1001_33     1001   2018-09-27   236.40      9"
      ]
     },
     "execution_count": 22,
     "metadata": {},
     "output_type": "execute_result"
    }
   ],
   "source": [
    "# Printing a sample of data for the internet traffic\n",
    "\n",
    "intnet.head(20)"
   ]
  },
  {
   "cell_type": "markdown",
   "metadata": {},
   "source": [
    "Repeating the same steps for this dataframe we can check out traffic usage."
   ]
  },
  {
   "cell_type": "code",
   "execution_count": 23,
   "metadata": {},
   "outputs": [
    {
     "data": {
      "text/plain": [
       "user_id  month\n",
       "1379     12       70931.59\n",
       "1121     12       66863.89\n",
       "1292     12       52034.66\n",
       "         8        51809.35\n",
       "1240     8        49950.58\n",
       "                    ...   \n",
       "1108     12         233.17\n",
       "1182     5          129.84\n",
       "1076     7          113.74\n",
       "1452     12          92.68\n",
       "1081     4           92.31\n",
       "Name: mb_used, Length: 2277, dtype: float64"
      ]
     },
     "execution_count": 23,
     "metadata": {},
     "output_type": "execute_result"
    }
   ],
   "source": [
    "intnet.groupby(by=['user_id','month'])['mb_used'].sum().sort_values(ascending=False)"
   ]
  },
  {
   "cell_type": "markdown",
   "metadata": {},
   "source": [
    "## Study plan conditions"
   ]
  },
  {
   "cell_type": "markdown",
   "metadata": {},
   "source": [
    "After fixing and adding on our dataframes we should carefully study the conditions for both plans."
   ]
  },
  {
   "cell_type": "code",
   "execution_count": 24,
   "metadata": {},
   "outputs": [
    {
     "data": {
      "text/html": [
       "<div>\n",
       "<style scoped>\n",
       "    .dataframe tbody tr th:only-of-type {\n",
       "        vertical-align: middle;\n",
       "    }\n",
       "\n",
       "    .dataframe tbody tr th {\n",
       "        vertical-align: top;\n",
       "    }\n",
       "\n",
       "    .dataframe thead th {\n",
       "        text-align: right;\n",
       "    }\n",
       "</style>\n",
       "<table border=\"1\" class=\"dataframe\">\n",
       "  <thead>\n",
       "    <tr style=\"text-align: right;\">\n",
       "      <th></th>\n",
       "      <th>messages_included</th>\n",
       "      <th>mb_per_month_included</th>\n",
       "      <th>minutes_included</th>\n",
       "      <th>usd_monthly_pay</th>\n",
       "      <th>usd_per_gb</th>\n",
       "      <th>usd_per_message</th>\n",
       "      <th>usd_per_minute</th>\n",
       "      <th>plan_name</th>\n",
       "    </tr>\n",
       "  </thead>\n",
       "  <tbody>\n",
       "    <tr>\n",
       "      <th>0</th>\n",
       "      <td>50</td>\n",
       "      <td>15360</td>\n",
       "      <td>500</td>\n",
       "      <td>20</td>\n",
       "      <td>10</td>\n",
       "      <td>0.03</td>\n",
       "      <td>0.03</td>\n",
       "      <td>surf</td>\n",
       "    </tr>\n",
       "    <tr>\n",
       "      <th>1</th>\n",
       "      <td>1000</td>\n",
       "      <td>30720</td>\n",
       "      <td>3000</td>\n",
       "      <td>70</td>\n",
       "      <td>7</td>\n",
       "      <td>0.01</td>\n",
       "      <td>0.01</td>\n",
       "      <td>ultimate</td>\n",
       "    </tr>\n",
       "  </tbody>\n",
       "</table>\n",
       "</div>"
      ],
      "text/plain": [
       "   messages_included  mb_per_month_included  minutes_included  \\\n",
       "0                 50                  15360               500   \n",
       "1               1000                  30720              3000   \n",
       "\n",
       "   usd_monthly_pay  usd_per_gb  usd_per_message  usd_per_minute plan_name  \n",
       "0               20          10             0.03            0.03      surf  \n",
       "1               70           7             0.01            0.01  ultimate  "
      ]
     },
     "execution_count": 24,
     "metadata": {},
     "output_type": "execute_result"
    }
   ],
   "source": [
    "# Printing out the plan conditions\n",
    "\n",
    "plans.head()"
   ]
  },
  {
   "cell_type": "markdown",
   "metadata": {},
   "source": [
    "## Aggregate data per user\n",
    "\n",
    "To start of we should use round up our values in duration column to its' ceiling."
   ]
  },
  {
   "cell_type": "code",
   "execution_count": 25,
   "metadata": {},
   "outputs": [],
   "source": [
    "# Applying ciel method to duration values\n",
    "\n",
    "calls.duration = calls.duration.apply(np.ceil)"
   ]
  },
  {
   "cell_type": "code",
   "execution_count": 26,
   "metadata": {},
   "outputs": [
    {
     "data": {
      "text/plain": [
       "user_id  month\n",
       "1000     12       16\n",
       "1001     8        27\n",
       "         9        49\n",
       "         10       65\n",
       "         11       64\n",
       "                  ..\n",
       "1498     12       39\n",
       "1499     9        41\n",
       "         10       53\n",
       "         11       45\n",
       "         12       65\n",
       "Name: id, Length: 2258, dtype: int64"
      ]
     },
     "execution_count": 26,
     "metadata": {},
     "output_type": "execute_result"
    }
   ],
   "source": [
    "# Calculating the number of calls made by each user per month and saving it\n",
    "\n",
    "number_of_calls = calls.groupby(by=['user_id', 'month'])['id'].count()\n",
    "number_of_calls"
   ]
  },
  {
   "cell_type": "code",
   "execution_count": 27,
   "metadata": {},
   "outputs": [
    {
     "data": {
      "text/html": [
       "<div>\n",
       "<style scoped>\n",
       "    .dataframe tbody tr th:only-of-type {\n",
       "        vertical-align: middle;\n",
       "    }\n",
       "\n",
       "    .dataframe tbody tr th {\n",
       "        vertical-align: top;\n",
       "    }\n",
       "\n",
       "    .dataframe thead th {\n",
       "        text-align: right;\n",
       "    }\n",
       "</style>\n",
       "<table border=\"1\" class=\"dataframe\">\n",
       "  <thead>\n",
       "    <tr style=\"text-align: right;\">\n",
       "      <th></th>\n",
       "      <th></th>\n",
       "      <th>count</th>\n",
       "      <th>sum</th>\n",
       "    </tr>\n",
       "    <tr>\n",
       "      <th>user_id</th>\n",
       "      <th>month</th>\n",
       "      <th></th>\n",
       "      <th></th>\n",
       "    </tr>\n",
       "  </thead>\n",
       "  <tbody>\n",
       "    <tr>\n",
       "      <th>1000</th>\n",
       "      <th>12</th>\n",
       "      <td>16</td>\n",
       "      <td>124.0</td>\n",
       "    </tr>\n",
       "    <tr>\n",
       "      <th rowspan=\"4\" valign=\"top\">1001</th>\n",
       "      <th>8</th>\n",
       "      <td>27</td>\n",
       "      <td>182.0</td>\n",
       "    </tr>\n",
       "    <tr>\n",
       "      <th>9</th>\n",
       "      <td>49</td>\n",
       "      <td>315.0</td>\n",
       "    </tr>\n",
       "    <tr>\n",
       "      <th>10</th>\n",
       "      <td>65</td>\n",
       "      <td>393.0</td>\n",
       "    </tr>\n",
       "    <tr>\n",
       "      <th>11</th>\n",
       "      <td>64</td>\n",
       "      <td>426.0</td>\n",
       "    </tr>\n",
       "    <tr>\n",
       "      <th>...</th>\n",
       "      <th>...</th>\n",
       "      <td>...</td>\n",
       "      <td>...</td>\n",
       "    </tr>\n",
       "    <tr>\n",
       "      <th>1498</th>\n",
       "      <th>12</th>\n",
       "      <td>39</td>\n",
       "      <td>339.0</td>\n",
       "    </tr>\n",
       "    <tr>\n",
       "      <th rowspan=\"4\" valign=\"top\">1499</th>\n",
       "      <th>9</th>\n",
       "      <td>41</td>\n",
       "      <td>346.0</td>\n",
       "    </tr>\n",
       "    <tr>\n",
       "      <th>10</th>\n",
       "      <td>53</td>\n",
       "      <td>385.0</td>\n",
       "    </tr>\n",
       "    <tr>\n",
       "      <th>11</th>\n",
       "      <td>45</td>\n",
       "      <td>308.0</td>\n",
       "    </tr>\n",
       "    <tr>\n",
       "      <th>12</th>\n",
       "      <td>65</td>\n",
       "      <td>496.0</td>\n",
       "    </tr>\n",
       "  </tbody>\n",
       "</table>\n",
       "<p>2258 rows × 2 columns</p>\n",
       "</div>"
      ],
      "text/plain": [
       "               count    sum\n",
       "user_id month              \n",
       "1000    12        16  124.0\n",
       "1001    8         27  182.0\n",
       "        9         49  315.0\n",
       "        10        65  393.0\n",
       "        11        64  426.0\n",
       "...              ...    ...\n",
       "1498    12        39  339.0\n",
       "1499    9         41  346.0\n",
       "        10        53  385.0\n",
       "        11        45  308.0\n",
       "        12        65  496.0\n",
       "\n",
       "[2258 rows x 2 columns]"
      ]
     },
     "execution_count": 27,
     "metadata": {},
     "output_type": "execute_result"
    }
   ],
   "source": [
    "# Calculating the total calls duration made by each user per month and saving it\n",
    "\n",
    "total_minutes = calls.groupby(['user_id', 'month'])['duration'].agg(['count', 'sum'])\n",
    "total_minutes"
   ]
  },
  {
   "cell_type": "code",
   "execution_count": 29,
   "metadata": {},
   "outputs": [
    {
     "data": {
      "text/plain": [
       "user_id  month\n",
       "1000     12       11\n",
       "1001     8        30\n",
       "         9        44\n",
       "         10       53\n",
       "         11       36\n",
       "                  ..\n",
       "1496     9        21\n",
       "         10       18\n",
       "         11       13\n",
       "         12       11\n",
       "1497     12       50\n",
       "Name: id, Length: 1806, dtype: int64"
      ]
     },
     "execution_count": 29,
     "metadata": {},
     "output_type": "execute_result"
    }
   ],
   "source": [
    "# Calculating the number of messages sent by each user per month and saving it\n",
    "\n",
    "number_of_msg = msg.groupby(by=['user_id', 'month'])['id'].count()\n",
    "number_of_msg"
   ]
  },
  {
   "cell_type": "code",
   "execution_count": 30,
   "metadata": {},
   "outputs": [
    {
     "data": {
      "text/plain": [
       "user_id  month\n",
       "1000     12        1901.47\n",
       "1001     8         6919.15\n",
       "         9        13314.82\n",
       "         10       22330.49\n",
       "         11       18504.30\n",
       "                    ...   \n",
       "1498     12       23137.69\n",
       "1499     9        12984.76\n",
       "         10       19492.43\n",
       "         11       16813.83\n",
       "         12       22059.21\n",
       "Name: mb_used, Length: 2277, dtype: float64"
      ]
     },
     "execution_count": 30,
     "metadata": {},
     "output_type": "execute_result"
    }
   ],
   "source": [
    "# Calculating the volume of internet traffic used by each user per month and saving it\n",
    "\n",
    "traffic_volume = intnet.groupby(by=['user_id', 'month'])['mb_used'].sum()\n",
    "traffic_volume"
   ]
  },
  {
   "cell_type": "markdown",
   "metadata": {},
   "source": [
    "Now we have stored values for each user per month. Let's merge them into one table."
   ]
  },
  {
   "cell_type": "code",
   "execution_count": 31,
   "metadata": {},
   "outputs": [],
   "source": [
    "# Merging the data for calls, minutes, messages, internet based on user_id and month\n",
    "\n",
    "data_frames = [traffic_volume, number_of_calls, total_minutes, number_of_msg]\n",
    "total = reduce(lambda  left,right: pd.merge(left,right,on=['user_id', 'month'],\n",
    "                                            how='outer'), data_frames)"
   ]
  },
  {
   "cell_type": "code",
   "execution_count": 32,
   "metadata": {},
   "outputs": [
    {
     "data": {
      "text/html": [
       "<div>\n",
       "<style scoped>\n",
       "    .dataframe tbody tr th:only-of-type {\n",
       "        vertical-align: middle;\n",
       "    }\n",
       "\n",
       "    .dataframe tbody tr th {\n",
       "        vertical-align: top;\n",
       "    }\n",
       "\n",
       "    .dataframe thead th {\n",
       "        text-align: right;\n",
       "    }\n",
       "</style>\n",
       "<table border=\"1\" class=\"dataframe\">\n",
       "  <thead>\n",
       "    <tr style=\"text-align: right;\">\n",
       "      <th></th>\n",
       "      <th></th>\n",
       "      <th>mb_used</th>\n",
       "      <th>id_x</th>\n",
       "      <th>count</th>\n",
       "      <th>sum</th>\n",
       "      <th>id_y</th>\n",
       "    </tr>\n",
       "    <tr>\n",
       "      <th>user_id</th>\n",
       "      <th>month</th>\n",
       "      <th></th>\n",
       "      <th></th>\n",
       "      <th></th>\n",
       "      <th></th>\n",
       "      <th></th>\n",
       "    </tr>\n",
       "  </thead>\n",
       "  <tbody>\n",
       "    <tr>\n",
       "      <th>1000</th>\n",
       "      <th>12</th>\n",
       "      <td>1901.47</td>\n",
       "      <td>16.0</td>\n",
       "      <td>16.0</td>\n",
       "      <td>124.0</td>\n",
       "      <td>11.0</td>\n",
       "    </tr>\n",
       "    <tr>\n",
       "      <th rowspan=\"4\" valign=\"top\">1001</th>\n",
       "      <th>8</th>\n",
       "      <td>6919.15</td>\n",
       "      <td>27.0</td>\n",
       "      <td>27.0</td>\n",
       "      <td>182.0</td>\n",
       "      <td>30.0</td>\n",
       "    </tr>\n",
       "    <tr>\n",
       "      <th>9</th>\n",
       "      <td>13314.82</td>\n",
       "      <td>49.0</td>\n",
       "      <td>49.0</td>\n",
       "      <td>315.0</td>\n",
       "      <td>44.0</td>\n",
       "    </tr>\n",
       "    <tr>\n",
       "      <th>10</th>\n",
       "      <td>22330.49</td>\n",
       "      <td>65.0</td>\n",
       "      <td>65.0</td>\n",
       "      <td>393.0</td>\n",
       "      <td>53.0</td>\n",
       "    </tr>\n",
       "    <tr>\n",
       "      <th>11</th>\n",
       "      <td>18504.30</td>\n",
       "      <td>64.0</td>\n",
       "      <td>64.0</td>\n",
       "      <td>426.0</td>\n",
       "      <td>36.0</td>\n",
       "    </tr>\n",
       "    <tr>\n",
       "      <th>...</th>\n",
       "      <th>...</th>\n",
       "      <td>...</td>\n",
       "      <td>...</td>\n",
       "      <td>...</td>\n",
       "      <td>...</td>\n",
       "      <td>...</td>\n",
       "    </tr>\n",
       "    <tr>\n",
       "      <th rowspan=\"2\" valign=\"top\">1470</th>\n",
       "      <th>11</th>\n",
       "      <td>NaN</td>\n",
       "      <td>81.0</td>\n",
       "      <td>81.0</td>\n",
       "      <td>632.0</td>\n",
       "      <td>156.0</td>\n",
       "    </tr>\n",
       "    <tr>\n",
       "      <th>12</th>\n",
       "      <td>NaN</td>\n",
       "      <td>78.0</td>\n",
       "      <td>78.0</td>\n",
       "      <td>592.0</td>\n",
       "      <td>153.0</td>\n",
       "    </tr>\n",
       "    <tr>\n",
       "      <th>1484</th>\n",
       "      <th>11</th>\n",
       "      <td>NaN</td>\n",
       "      <td>2.0</td>\n",
       "      <td>2.0</td>\n",
       "      <td>38.0</td>\n",
       "      <td>1.0</td>\n",
       "    </tr>\n",
       "    <tr>\n",
       "      <th>1491</th>\n",
       "      <th>4</th>\n",
       "      <td>NaN</td>\n",
       "      <td>8.0</td>\n",
       "      <td>8.0</td>\n",
       "      <td>44.0</td>\n",
       "      <td>6.0</td>\n",
       "    </tr>\n",
       "    <tr>\n",
       "      <th>1482</th>\n",
       "      <th>10</th>\n",
       "      <td>NaN</td>\n",
       "      <td>NaN</td>\n",
       "      <td>NaN</td>\n",
       "      <td>NaN</td>\n",
       "      <td>2.0</td>\n",
       "    </tr>\n",
       "  </tbody>\n",
       "</table>\n",
       "<p>2293 rows × 5 columns</p>\n",
       "</div>"
      ],
      "text/plain": [
       "                mb_used  id_x  count    sum   id_y\n",
       "user_id month                                     \n",
       "1000    12      1901.47  16.0   16.0  124.0   11.0\n",
       "1001    8       6919.15  27.0   27.0  182.0   30.0\n",
       "        9      13314.82  49.0   49.0  315.0   44.0\n",
       "        10     22330.49  65.0   65.0  393.0   53.0\n",
       "        11     18504.30  64.0   64.0  426.0   36.0\n",
       "...                 ...   ...    ...    ...    ...\n",
       "1470    11          NaN  81.0   81.0  632.0  156.0\n",
       "        12          NaN  78.0   78.0  592.0  153.0\n",
       "1484    11          NaN   2.0    2.0   38.0    1.0\n",
       "1491    4           NaN   8.0    8.0   44.0    6.0\n",
       "1482    10          NaN   NaN    NaN    NaN    2.0\n",
       "\n",
       "[2293 rows x 5 columns]"
      ]
     },
     "execution_count": 32,
     "metadata": {},
     "output_type": "execute_result"
    }
   ],
   "source": [
    "total"
   ]
  },
  {
   "cell_type": "markdown",
   "metadata": {},
   "source": [
    "Seems that some columns merged with default names. Let's rename them so that we can understand this data."
   ]
  },
  {
   "cell_type": "code",
   "execution_count": 33,
   "metadata": {},
   "outputs": [],
   "source": [
    "# Renaming columns\n",
    "\n",
    "total.rename(columns={'id_x': 'calls', 'sum': 'call_dur', 'id_y': 'msgs'}, inplace=True)\n",
    "total = total.drop(['count'], axis=1)"
   ]
  },
  {
   "cell_type": "code",
   "execution_count": 34,
   "metadata": {},
   "outputs": [
    {
     "data": {
      "text/html": [
       "<div>\n",
       "<style scoped>\n",
       "    .dataframe tbody tr th:only-of-type {\n",
       "        vertical-align: middle;\n",
       "    }\n",
       "\n",
       "    .dataframe tbody tr th {\n",
       "        vertical-align: top;\n",
       "    }\n",
       "\n",
       "    .dataframe thead th {\n",
       "        text-align: right;\n",
       "    }\n",
       "</style>\n",
       "<table border=\"1\" class=\"dataframe\">\n",
       "  <thead>\n",
       "    <tr style=\"text-align: right;\">\n",
       "      <th></th>\n",
       "      <th></th>\n",
       "      <th>mb_used</th>\n",
       "      <th>calls</th>\n",
       "      <th>call_dur</th>\n",
       "      <th>msgs</th>\n",
       "    </tr>\n",
       "    <tr>\n",
       "      <th>user_id</th>\n",
       "      <th>month</th>\n",
       "      <th></th>\n",
       "      <th></th>\n",
       "      <th></th>\n",
       "      <th></th>\n",
       "    </tr>\n",
       "  </thead>\n",
       "  <tbody>\n",
       "    <tr>\n",
       "      <th>1000</th>\n",
       "      <th>12</th>\n",
       "      <td>1901.47</td>\n",
       "      <td>16.0</td>\n",
       "      <td>124.0</td>\n",
       "      <td>11.0</td>\n",
       "    </tr>\n",
       "    <tr>\n",
       "      <th rowspan=\"5\" valign=\"top\">1001</th>\n",
       "      <th>8</th>\n",
       "      <td>6919.15</td>\n",
       "      <td>27.0</td>\n",
       "      <td>182.0</td>\n",
       "      <td>30.0</td>\n",
       "    </tr>\n",
       "    <tr>\n",
       "      <th>9</th>\n",
       "      <td>13314.82</td>\n",
       "      <td>49.0</td>\n",
       "      <td>315.0</td>\n",
       "      <td>44.0</td>\n",
       "    </tr>\n",
       "    <tr>\n",
       "      <th>10</th>\n",
       "      <td>22330.49</td>\n",
       "      <td>65.0</td>\n",
       "      <td>393.0</td>\n",
       "      <td>53.0</td>\n",
       "    </tr>\n",
       "    <tr>\n",
       "      <th>11</th>\n",
       "      <td>18504.30</td>\n",
       "      <td>64.0</td>\n",
       "      <td>426.0</td>\n",
       "      <td>36.0</td>\n",
       "    </tr>\n",
       "    <tr>\n",
       "      <th>12</th>\n",
       "      <td>19369.18</td>\n",
       "      <td>56.0</td>\n",
       "      <td>412.0</td>\n",
       "      <td>44.0</td>\n",
       "    </tr>\n",
       "    <tr>\n",
       "      <th rowspan=\"3\" valign=\"top\">1002</th>\n",
       "      <th>10</th>\n",
       "      <td>6552.01</td>\n",
       "      <td>11.0</td>\n",
       "      <td>59.0</td>\n",
       "      <td>15.0</td>\n",
       "    </tr>\n",
       "    <tr>\n",
       "      <th>11</th>\n",
       "      <td>19345.08</td>\n",
       "      <td>55.0</td>\n",
       "      <td>386.0</td>\n",
       "      <td>32.0</td>\n",
       "    </tr>\n",
       "    <tr>\n",
       "      <th>12</th>\n",
       "      <td>14396.24</td>\n",
       "      <td>47.0</td>\n",
       "      <td>384.0</td>\n",
       "      <td>41.0</td>\n",
       "    </tr>\n",
       "    <tr>\n",
       "      <th>1003</th>\n",
       "      <th>12</th>\n",
       "      <td>27044.14</td>\n",
       "      <td>149.0</td>\n",
       "      <td>1104.0</td>\n",
       "      <td>50.0</td>\n",
       "    </tr>\n",
       "    <tr>\n",
       "      <th rowspan=\"8\" valign=\"top\">1004</th>\n",
       "      <th>5</th>\n",
       "      <td>6547.21</td>\n",
       "      <td>21.0</td>\n",
       "      <td>193.0</td>\n",
       "      <td>7.0</td>\n",
       "    </tr>\n",
       "    <tr>\n",
       "      <th>6</th>\n",
       "      <td>20672.82</td>\n",
       "      <td>44.0</td>\n",
       "      <td>275.0</td>\n",
       "      <td>18.0</td>\n",
       "    </tr>\n",
       "    <tr>\n",
       "      <th>7</th>\n",
       "      <td>24516.62</td>\n",
       "      <td>49.0</td>\n",
       "      <td>381.0</td>\n",
       "      <td>26.0</td>\n",
       "    </tr>\n",
       "    <tr>\n",
       "      <th>8</th>\n",
       "      <td>27981.74</td>\n",
       "      <td>49.0</td>\n",
       "      <td>354.0</td>\n",
       "      <td>25.0</td>\n",
       "    </tr>\n",
       "    <tr>\n",
       "      <th>9</th>\n",
       "      <td>18852.72</td>\n",
       "      <td>42.0</td>\n",
       "      <td>301.0</td>\n",
       "      <td>21.0</td>\n",
       "    </tr>\n",
       "    <tr>\n",
       "      <th>10</th>\n",
       "      <td>14541.63</td>\n",
       "      <td>61.0</td>\n",
       "      <td>365.0</td>\n",
       "      <td>24.0</td>\n",
       "    </tr>\n",
       "    <tr>\n",
       "      <th>11</th>\n",
       "      <td>21850.78</td>\n",
       "      <td>54.0</td>\n",
       "      <td>476.0</td>\n",
       "      <td>25.0</td>\n",
       "    </tr>\n",
       "    <tr>\n",
       "      <th>12</th>\n",
       "      <td>21389.29</td>\n",
       "      <td>50.0</td>\n",
       "      <td>427.0</td>\n",
       "      <td>31.0</td>\n",
       "    </tr>\n",
       "    <tr>\n",
       "      <th>1005</th>\n",
       "      <th>12</th>\n",
       "      <td>17140.17</td>\n",
       "      <td>59.0</td>\n",
       "      <td>496.0</td>\n",
       "      <td>11.0</td>\n",
       "    </tr>\n",
       "    <tr>\n",
       "      <th>1006</th>\n",
       "      <th>11</th>\n",
       "      <td>2068.37</td>\n",
       "      <td>2.0</td>\n",
       "      <td>10.0</td>\n",
       "      <td>15.0</td>\n",
       "    </tr>\n",
       "  </tbody>\n",
       "</table>\n",
       "</div>"
      ],
      "text/plain": [
       "                mb_used  calls  call_dur  msgs\n",
       "user_id month                                 \n",
       "1000    12      1901.47   16.0     124.0  11.0\n",
       "1001    8       6919.15   27.0     182.0  30.0\n",
       "        9      13314.82   49.0     315.0  44.0\n",
       "        10     22330.49   65.0     393.0  53.0\n",
       "        11     18504.30   64.0     426.0  36.0\n",
       "        12     19369.18   56.0     412.0  44.0\n",
       "1002    10      6552.01   11.0      59.0  15.0\n",
       "        11     19345.08   55.0     386.0  32.0\n",
       "        12     14396.24   47.0     384.0  41.0\n",
       "1003    12     27044.14  149.0    1104.0  50.0\n",
       "1004    5       6547.21   21.0     193.0   7.0\n",
       "        6      20672.82   44.0     275.0  18.0\n",
       "        7      24516.62   49.0     381.0  26.0\n",
       "        8      27981.74   49.0     354.0  25.0\n",
       "        9      18852.72   42.0     301.0  21.0\n",
       "        10     14541.63   61.0     365.0  24.0\n",
       "        11     21850.78   54.0     476.0  25.0\n",
       "        12     21389.29   50.0     427.0  31.0\n",
       "1005    12     17140.17   59.0     496.0  11.0\n",
       "1006    11      2068.37    2.0      10.0  15.0"
      ]
     },
     "execution_count": 34,
     "metadata": {},
     "output_type": "execute_result"
    }
   ],
   "source": [
    "# Filling missing values in columns with 0\n",
    "\n",
    "total = total.fillna(0)\n",
    "total.head(20)"
   ]
  },
  {
   "cell_type": "code",
   "execution_count": 35,
   "metadata": {},
   "outputs": [
    {
     "name": "stdout",
     "output_type": "stream",
     "text": [
      "<class 'pandas.core.frame.DataFrame'>\n",
      "MultiIndex: 2293 entries, (1000, 12) to (1482, 10)\n",
      "Data columns (total 4 columns):\n",
      " #   Column    Non-Null Count  Dtype  \n",
      "---  ------    --------------  -----  \n",
      " 0   mb_used   2293 non-null   float64\n",
      " 1   calls     2293 non-null   float64\n",
      " 2   call_dur  2293 non-null   float64\n",
      " 3   msgs      2293 non-null   float64\n",
      "dtypes: float64(4)\n",
      "memory usage: 98.9 KB\n"
     ]
    }
   ],
   "source": [
    "total.info()"
   ]
  },
  {
   "cell_type": "markdown",
   "metadata": {},
   "source": [
    "The columns for number of calls and messages are in float data type we can convert them to integer but we don't have to do so."
   ]
  },
  {
   "cell_type": "code",
   "execution_count": 36,
   "metadata": {},
   "outputs": [
    {
     "data": {
      "text/html": [
       "<div>\n",
       "<style scoped>\n",
       "    .dataframe tbody tr th:only-of-type {\n",
       "        vertical-align: middle;\n",
       "    }\n",
       "\n",
       "    .dataframe tbody tr th {\n",
       "        vertical-align: top;\n",
       "    }\n",
       "\n",
       "    .dataframe thead th {\n",
       "        text-align: right;\n",
       "    }\n",
       "</style>\n",
       "<table border=\"1\" class=\"dataframe\">\n",
       "  <thead>\n",
       "    <tr style=\"text-align: right;\">\n",
       "      <th></th>\n",
       "      <th>user_id</th>\n",
       "      <th>mb_used</th>\n",
       "      <th>calls</th>\n",
       "      <th>call_dur</th>\n",
       "      <th>msgs</th>\n",
       "      <th>is_ult</th>\n",
       "      <th>city</th>\n",
       "    </tr>\n",
       "  </thead>\n",
       "  <tbody>\n",
       "    <tr>\n",
       "      <th>0</th>\n",
       "      <td>1000</td>\n",
       "      <td>1901.47</td>\n",
       "      <td>16.0</td>\n",
       "      <td>124.0</td>\n",
       "      <td>11.0</td>\n",
       "      <td>True</td>\n",
       "      <td>Atlanta-Sandy Springs-Roswell, GA MSA</td>\n",
       "    </tr>\n",
       "    <tr>\n",
       "      <th>1</th>\n",
       "      <td>1001</td>\n",
       "      <td>6919.15</td>\n",
       "      <td>27.0</td>\n",
       "      <td>182.0</td>\n",
       "      <td>30.0</td>\n",
       "      <td>False</td>\n",
       "      <td>Seattle-Tacoma-Bellevue, WA MSA</td>\n",
       "    </tr>\n",
       "    <tr>\n",
       "      <th>2</th>\n",
       "      <td>1001</td>\n",
       "      <td>13314.82</td>\n",
       "      <td>49.0</td>\n",
       "      <td>315.0</td>\n",
       "      <td>44.0</td>\n",
       "      <td>False</td>\n",
       "      <td>Seattle-Tacoma-Bellevue, WA MSA</td>\n",
       "    </tr>\n",
       "    <tr>\n",
       "      <th>3</th>\n",
       "      <td>1001</td>\n",
       "      <td>22330.49</td>\n",
       "      <td>65.0</td>\n",
       "      <td>393.0</td>\n",
       "      <td>53.0</td>\n",
       "      <td>False</td>\n",
       "      <td>Seattle-Tacoma-Bellevue, WA MSA</td>\n",
       "    </tr>\n",
       "    <tr>\n",
       "      <th>4</th>\n",
       "      <td>1001</td>\n",
       "      <td>18504.30</td>\n",
       "      <td>64.0</td>\n",
       "      <td>426.0</td>\n",
       "      <td>36.0</td>\n",
       "      <td>False</td>\n",
       "      <td>Seattle-Tacoma-Bellevue, WA MSA</td>\n",
       "    </tr>\n",
       "    <tr>\n",
       "      <th>...</th>\n",
       "      <td>...</td>\n",
       "      <td>...</td>\n",
       "      <td>...</td>\n",
       "      <td>...</td>\n",
       "      <td>...</td>\n",
       "      <td>...</td>\n",
       "      <td>...</td>\n",
       "    </tr>\n",
       "    <tr>\n",
       "      <th>2288</th>\n",
       "      <td>1470</td>\n",
       "      <td>0.00</td>\n",
       "      <td>81.0</td>\n",
       "      <td>632.0</td>\n",
       "      <td>156.0</td>\n",
       "      <td>False</td>\n",
       "      <td>Washington-Arlington-Alexandria, DC-VA-MD-WV MSA</td>\n",
       "    </tr>\n",
       "    <tr>\n",
       "      <th>2289</th>\n",
       "      <td>1470</td>\n",
       "      <td>0.00</td>\n",
       "      <td>78.0</td>\n",
       "      <td>592.0</td>\n",
       "      <td>153.0</td>\n",
       "      <td>False</td>\n",
       "      <td>Washington-Arlington-Alexandria, DC-VA-MD-WV MSA</td>\n",
       "    </tr>\n",
       "    <tr>\n",
       "      <th>2290</th>\n",
       "      <td>1484</td>\n",
       "      <td>0.00</td>\n",
       "      <td>2.0</td>\n",
       "      <td>38.0</td>\n",
       "      <td>1.0</td>\n",
       "      <td>False</td>\n",
       "      <td>Dallas-Fort Worth-Arlington, TX MSA</td>\n",
       "    </tr>\n",
       "    <tr>\n",
       "      <th>2291</th>\n",
       "      <td>1491</td>\n",
       "      <td>0.00</td>\n",
       "      <td>8.0</td>\n",
       "      <td>44.0</td>\n",
       "      <td>6.0</td>\n",
       "      <td>False</td>\n",
       "      <td>Grand Rapids-Kentwood, MI MSA</td>\n",
       "    </tr>\n",
       "    <tr>\n",
       "      <th>2292</th>\n",
       "      <td>1482</td>\n",
       "      <td>0.00</td>\n",
       "      <td>0.0</td>\n",
       "      <td>0.0</td>\n",
       "      <td>2.0</td>\n",
       "      <td>True</td>\n",
       "      <td>New York-Newark-Jersey City, NY-NJ-PA MSA</td>\n",
       "    </tr>\n",
       "  </tbody>\n",
       "</table>\n",
       "<p>2293 rows × 7 columns</p>\n",
       "</div>"
      ],
      "text/plain": [
       "      user_id   mb_used  calls  call_dur   msgs  is_ult  \\\n",
       "0        1000   1901.47   16.0     124.0   11.0    True   \n",
       "1        1001   6919.15   27.0     182.0   30.0   False   \n",
       "2        1001  13314.82   49.0     315.0   44.0   False   \n",
       "3        1001  22330.49   65.0     393.0   53.0   False   \n",
       "4        1001  18504.30   64.0     426.0   36.0   False   \n",
       "...       ...       ...    ...       ...    ...     ...   \n",
       "2288     1470      0.00   81.0     632.0  156.0   False   \n",
       "2289     1470      0.00   78.0     592.0  153.0   False   \n",
       "2290     1484      0.00    2.0      38.0    1.0   False   \n",
       "2291     1491      0.00    8.0      44.0    6.0   False   \n",
       "2292     1482      0.00    0.0       0.0    2.0    True   \n",
       "\n",
       "                                                  city  \n",
       "0                Atlanta-Sandy Springs-Roswell, GA MSA  \n",
       "1                      Seattle-Tacoma-Bellevue, WA MSA  \n",
       "2                      Seattle-Tacoma-Bellevue, WA MSA  \n",
       "3                      Seattle-Tacoma-Bellevue, WA MSA  \n",
       "4                      Seattle-Tacoma-Bellevue, WA MSA  \n",
       "...                                                ...  \n",
       "2288  Washington-Arlington-Alexandria, DC-VA-MD-WV MSA  \n",
       "2289  Washington-Arlington-Alexandria, DC-VA-MD-WV MSA  \n",
       "2290               Dallas-Fort Worth-Arlington, TX MSA  \n",
       "2291                     Grand Rapids-Kentwood, MI MSA  \n",
       "2292         New York-Newark-Jersey City, NY-NJ-PA MSA  \n",
       "\n",
       "[2293 rows x 7 columns]"
      ]
     },
     "execution_count": 36,
     "metadata": {},
     "output_type": "execute_result"
    }
   ],
   "source": [
    "# Add the plan information\n",
    "\n",
    "new_total = total.merge(users[['user_id', 'is_ult', 'city']], how='left', on='user_id')\n",
    "new_total"
   ]
  },
  {
   "cell_type": "markdown",
   "metadata": {},
   "source": [
    "Now we have a dataframe with every user's monthly internet traffic consumption, total call duration, number of direct calls and messages. This will allow us to create a function that will sum all the monthly costs for each user."
   ]
  },
  {
   "cell_type": "code",
   "execution_count": 37,
   "metadata": {},
   "outputs": [
    {
     "data": {
      "text/html": [
       "<div>\n",
       "<style scoped>\n",
       "    .dataframe tbody tr th:only-of-type {\n",
       "        vertical-align: middle;\n",
       "    }\n",
       "\n",
       "    .dataframe tbody tr th {\n",
       "        vertical-align: top;\n",
       "    }\n",
       "\n",
       "    .dataframe thead th {\n",
       "        text-align: right;\n",
       "    }\n",
       "</style>\n",
       "<table border=\"1\" class=\"dataframe\">\n",
       "  <thead>\n",
       "    <tr style=\"text-align: right;\">\n",
       "      <th></th>\n",
       "      <th>messages_included</th>\n",
       "      <th>mb_per_month_included</th>\n",
       "      <th>minutes_included</th>\n",
       "      <th>usd_monthly_pay</th>\n",
       "      <th>usd_per_gb</th>\n",
       "      <th>usd_per_message</th>\n",
       "      <th>usd_per_minute</th>\n",
       "      <th>plan_name</th>\n",
       "    </tr>\n",
       "  </thead>\n",
       "  <tbody>\n",
       "    <tr>\n",
       "      <th>0</th>\n",
       "      <td>50</td>\n",
       "      <td>15360</td>\n",
       "      <td>500</td>\n",
       "      <td>20</td>\n",
       "      <td>10</td>\n",
       "      <td>0.03</td>\n",
       "      <td>0.03</td>\n",
       "      <td>surf</td>\n",
       "    </tr>\n",
       "    <tr>\n",
       "      <th>1</th>\n",
       "      <td>1000</td>\n",
       "      <td>30720</td>\n",
       "      <td>3000</td>\n",
       "      <td>70</td>\n",
       "      <td>7</td>\n",
       "      <td>0.01</td>\n",
       "      <td>0.01</td>\n",
       "      <td>ultimate</td>\n",
       "    </tr>\n",
       "  </tbody>\n",
       "</table>\n",
       "</div>"
      ],
      "text/plain": [
       "   messages_included  mb_per_month_included  minutes_included  \\\n",
       "0                 50                  15360               500   \n",
       "1               1000                  30720              3000   \n",
       "\n",
       "   usd_monthly_pay  usd_per_gb  usd_per_message  usd_per_minute plan_name  \n",
       "0               20          10             0.03            0.03      surf  \n",
       "1               70           7             0.01            0.01  ultimate  "
      ]
     },
     "execution_count": 37,
     "metadata": {},
     "output_type": "execute_result"
    }
   ],
   "source": [
    "plans"
   ]
  },
  {
   "cell_type": "code",
   "execution_count": 38,
   "metadata": {},
   "outputs": [],
   "source": [
    "# Converting Mbs to Gbs and renaming affected column\n",
    "\n",
    "new_total.mb_used = new_total.mb_used.apply(lambda x: x / 1024)\n",
    "new_total = new_total.rename(columns={'mb_used': 'gb_used'})"
   ]
  },
  {
   "cell_type": "code",
   "execution_count": 39,
   "metadata": {},
   "outputs": [
    {
     "data": {
      "text/html": [
       "<div>\n",
       "<style scoped>\n",
       "    .dataframe tbody tr th:only-of-type {\n",
       "        vertical-align: middle;\n",
       "    }\n",
       "\n",
       "    .dataframe tbody tr th {\n",
       "        vertical-align: top;\n",
       "    }\n",
       "\n",
       "    .dataframe thead th {\n",
       "        text-align: right;\n",
       "    }\n",
       "</style>\n",
       "<table border=\"1\" class=\"dataframe\">\n",
       "  <thead>\n",
       "    <tr style=\"text-align: right;\">\n",
       "      <th></th>\n",
       "      <th>user_id</th>\n",
       "      <th>gb_used</th>\n",
       "      <th>calls</th>\n",
       "      <th>call_dur</th>\n",
       "      <th>msgs</th>\n",
       "      <th>is_ult</th>\n",
       "      <th>city</th>\n",
       "    </tr>\n",
       "  </thead>\n",
       "  <tbody>\n",
       "    <tr>\n",
       "      <th>0</th>\n",
       "      <td>1000</td>\n",
       "      <td>1.856904</td>\n",
       "      <td>16.0</td>\n",
       "      <td>124.0</td>\n",
       "      <td>11.0</td>\n",
       "      <td>True</td>\n",
       "      <td>Atlanta-Sandy Springs-Roswell, GA MSA</td>\n",
       "    </tr>\n",
       "    <tr>\n",
       "      <th>1</th>\n",
       "      <td>1001</td>\n",
       "      <td>6.756982</td>\n",
       "      <td>27.0</td>\n",
       "      <td>182.0</td>\n",
       "      <td>30.0</td>\n",
       "      <td>False</td>\n",
       "      <td>Seattle-Tacoma-Bellevue, WA MSA</td>\n",
       "    </tr>\n",
       "    <tr>\n",
       "      <th>2</th>\n",
       "      <td>1001</td>\n",
       "      <td>13.002754</td>\n",
       "      <td>49.0</td>\n",
       "      <td>315.0</td>\n",
       "      <td>44.0</td>\n",
       "      <td>False</td>\n",
       "      <td>Seattle-Tacoma-Bellevue, WA MSA</td>\n",
       "    </tr>\n",
       "    <tr>\n",
       "      <th>3</th>\n",
       "      <td>1001</td>\n",
       "      <td>21.807119</td>\n",
       "      <td>65.0</td>\n",
       "      <td>393.0</td>\n",
       "      <td>53.0</td>\n",
       "      <td>False</td>\n",
       "      <td>Seattle-Tacoma-Bellevue, WA MSA</td>\n",
       "    </tr>\n",
       "    <tr>\n",
       "      <th>4</th>\n",
       "      <td>1001</td>\n",
       "      <td>18.070605</td>\n",
       "      <td>64.0</td>\n",
       "      <td>426.0</td>\n",
       "      <td>36.0</td>\n",
       "      <td>False</td>\n",
       "      <td>Seattle-Tacoma-Bellevue, WA MSA</td>\n",
       "    </tr>\n",
       "  </tbody>\n",
       "</table>\n",
       "</div>"
      ],
      "text/plain": [
       "   user_id    gb_used  calls  call_dur  msgs  is_ult  \\\n",
       "0     1000   1.856904   16.0     124.0  11.0    True   \n",
       "1     1001   6.756982   27.0     182.0  30.0   False   \n",
       "2     1001  13.002754   49.0     315.0  44.0   False   \n",
       "3     1001  21.807119   65.0     393.0  53.0   False   \n",
       "4     1001  18.070605   64.0     426.0  36.0   False   \n",
       "\n",
       "                                    city  \n",
       "0  Atlanta-Sandy Springs-Roswell, GA MSA  \n",
       "1        Seattle-Tacoma-Bellevue, WA MSA  \n",
       "2        Seattle-Tacoma-Bellevue, WA MSA  \n",
       "3        Seattle-Tacoma-Bellevue, WA MSA  \n",
       "4        Seattle-Tacoma-Bellevue, WA MSA  "
      ]
     },
     "execution_count": 39,
     "metadata": {},
     "output_type": "execute_result"
    }
   ],
   "source": [
    "new_total.head()"
   ]
  },
  {
   "cell_type": "code",
   "execution_count": 40,
   "metadata": {},
   "outputs": [],
   "source": [
    "# Writing a function to determine monthly service pay\n",
    "\n",
    "def tcost(row):\n",
    "    \n",
    "    plan = row['is_ult']\n",
    "    traffic = row['gb_used']\n",
    "    minutes = row['call_dur']\n",
    "    msg = row['msgs']\n",
    " \n",
    "    if plan:\n",
    "        plan_cost = plans[plans.plan_name == 'ultimate']['usd_monthly_pay'].loc[1]\n",
    "        \n",
    "        messages_included = plans[plans.plan_name == 'ultimate']['messages_included'].loc[1]\n",
    "        \n",
    "        mb_per_month_included = plans[plans.plan_name == 'ultimate']['mb_per_month_included'].loc[1]\n",
    "        \n",
    "        minutes_included = plans[plans.plan_name == 'ultimate']['minutes_included'].loc[1]\n",
    "        \n",
    "        usd_per_gb = plans[plans.plan_name == 'ultimate']['usd_per_gb'].loc[1]\n",
    "        \n",
    "        usd_per_message = plans[plans.plan_name == 'ultimate']['usd_per_message'].loc[1]\n",
    "        \n",
    "        usd_per_minute = plans[plans.plan_name == 'ultimate']['usd_per_minute'].loc[1]\n",
    "        \n",
    "    else:\n",
    "        plan_cost = plans[plans.plan_name == 'surf']['usd_monthly_pay'].loc[0]\n",
    "        \n",
    "        messages_included = plans[plans.plan_name == 'surf']['messages_included'].loc[0]\n",
    "        \n",
    "        mb_per_month_included = plans[plans.plan_name == 'surf']['mb_per_month_included'].loc[0]\n",
    "        \n",
    "        minutes_included = plans[plans.plan_name == 'surf']['minutes_included'].loc[0]\n",
    "        \n",
    "        usd_per_gb = plans[plans.plan_name == 'surf']['usd_per_gb'].loc[0]\n",
    "        \n",
    "        usd_per_message = plans[plans.plan_name == 'surf']['usd_per_message'].loc[0]\n",
    "        \n",
    "        usd_per_minute = plans[plans.plan_name == 'surf']['usd_per_minute'].loc[0]\n",
    "    \n",
    "    if traffic > mb_per_month_included and ~plan:\n",
    "        traffic_cost = math.ceil(((traffic*1024) - mb_per_month_included)/1024) * usd_per_gb\n",
    "        \n",
    "    elif traffic > mb_per_month_included and plan:\n",
    "        traffic_cost = math.ceil(((traffic*1024)- mb_per_month_included)/1024) * usd_per_gb\n",
    "    else: \n",
    "        traffic_cost = 0\n",
    "        \n",
    "    if minutes > minutes_included and ~plan:\n",
    "        minutes_cost = (minutes - minutes_included) * usd_per_minute\n",
    "        \n",
    "    elif minutes > minutes_included and plan:\n",
    "        minutes_cost = (minutes - minutes_included) * usd_per_minute\n",
    "    else:\n",
    "        minutes_cost = 0\n",
    "        \n",
    "    if msg > messages_included and ~plan:\n",
    "        messages_cost = (msg - messages_included) * usd_per_message\n",
    "        \n",
    "    elif msg > messages_included and plan:\n",
    "        messages_cost = (msg - messages_included) * usd_per_message\n",
    "    else: \n",
    "        messages_cost = 0\n",
    "        \n",
    "    \n",
    "            \n",
    "            \n",
    "    total_cost = plan_cost + traffic_cost + minutes_cost + messages_cost\n",
    "    \n",
    "    return total_cost"
   ]
  },
  {
   "cell_type": "code",
   "execution_count": 42,
   "metadata": {},
   "outputs": [],
   "source": [
    "# Creating a new column using the function\n",
    "\n",
    "new_total['total_cost'] = new_total.apply(tcost,axis=1)"
   ]
  },
  {
   "cell_type": "code",
   "execution_count": 43,
   "metadata": {},
   "outputs": [
    {
     "data": {
      "text/html": [
       "<div>\n",
       "<style scoped>\n",
       "    .dataframe tbody tr th:only-of-type {\n",
       "        vertical-align: middle;\n",
       "    }\n",
       "\n",
       "    .dataframe tbody tr th {\n",
       "        vertical-align: top;\n",
       "    }\n",
       "\n",
       "    .dataframe thead th {\n",
       "        text-align: right;\n",
       "    }\n",
       "</style>\n",
       "<table border=\"1\" class=\"dataframe\">\n",
       "  <thead>\n",
       "    <tr style=\"text-align: right;\">\n",
       "      <th></th>\n",
       "      <th>user_id</th>\n",
       "      <th>gb_used</th>\n",
       "      <th>calls</th>\n",
       "      <th>call_dur</th>\n",
       "      <th>msgs</th>\n",
       "      <th>plan</th>\n",
       "      <th>city</th>\n",
       "      <th>total_cost</th>\n",
       "    </tr>\n",
       "  </thead>\n",
       "  <tbody>\n",
       "    <tr>\n",
       "      <th>0</th>\n",
       "      <td>1000</td>\n",
       "      <td>1.856904</td>\n",
       "      <td>16.0</td>\n",
       "      <td>124.0</td>\n",
       "      <td>11.0</td>\n",
       "      <td>ultimate</td>\n",
       "      <td>Atlanta-Sandy Springs-Roswell, GA MSA</td>\n",
       "      <td>70.00</td>\n",
       "    </tr>\n",
       "    <tr>\n",
       "      <th>1</th>\n",
       "      <td>1001</td>\n",
       "      <td>6.756982</td>\n",
       "      <td>27.0</td>\n",
       "      <td>182.0</td>\n",
       "      <td>30.0</td>\n",
       "      <td>surf</td>\n",
       "      <td>Seattle-Tacoma-Bellevue, WA MSA</td>\n",
       "      <td>20.00</td>\n",
       "    </tr>\n",
       "    <tr>\n",
       "      <th>2</th>\n",
       "      <td>1001</td>\n",
       "      <td>13.002754</td>\n",
       "      <td>49.0</td>\n",
       "      <td>315.0</td>\n",
       "      <td>44.0</td>\n",
       "      <td>surf</td>\n",
       "      <td>Seattle-Tacoma-Bellevue, WA MSA</td>\n",
       "      <td>20.00</td>\n",
       "    </tr>\n",
       "    <tr>\n",
       "      <th>3</th>\n",
       "      <td>1001</td>\n",
       "      <td>21.807119</td>\n",
       "      <td>65.0</td>\n",
       "      <td>393.0</td>\n",
       "      <td>53.0</td>\n",
       "      <td>surf</td>\n",
       "      <td>Seattle-Tacoma-Bellevue, WA MSA</td>\n",
       "      <td>20.09</td>\n",
       "    </tr>\n",
       "    <tr>\n",
       "      <th>4</th>\n",
       "      <td>1001</td>\n",
       "      <td>18.070605</td>\n",
       "      <td>64.0</td>\n",
       "      <td>426.0</td>\n",
       "      <td>36.0</td>\n",
       "      <td>surf</td>\n",
       "      <td>Seattle-Tacoma-Bellevue, WA MSA</td>\n",
       "      <td>20.00</td>\n",
       "    </tr>\n",
       "    <tr>\n",
       "      <th>...</th>\n",
       "      <td>...</td>\n",
       "      <td>...</td>\n",
       "      <td>...</td>\n",
       "      <td>...</td>\n",
       "      <td>...</td>\n",
       "      <td>...</td>\n",
       "      <td>...</td>\n",
       "      <td>...</td>\n",
       "    </tr>\n",
       "    <tr>\n",
       "      <th>2288</th>\n",
       "      <td>1470</td>\n",
       "      <td>0.000000</td>\n",
       "      <td>81.0</td>\n",
       "      <td>632.0</td>\n",
       "      <td>156.0</td>\n",
       "      <td>surf</td>\n",
       "      <td>Washington-Arlington-Alexandria, DC-VA-MD-WV MSA</td>\n",
       "      <td>27.14</td>\n",
       "    </tr>\n",
       "    <tr>\n",
       "      <th>2289</th>\n",
       "      <td>1470</td>\n",
       "      <td>0.000000</td>\n",
       "      <td>78.0</td>\n",
       "      <td>592.0</td>\n",
       "      <td>153.0</td>\n",
       "      <td>surf</td>\n",
       "      <td>Washington-Arlington-Alexandria, DC-VA-MD-WV MSA</td>\n",
       "      <td>25.85</td>\n",
       "    </tr>\n",
       "    <tr>\n",
       "      <th>2290</th>\n",
       "      <td>1484</td>\n",
       "      <td>0.000000</td>\n",
       "      <td>2.0</td>\n",
       "      <td>38.0</td>\n",
       "      <td>1.0</td>\n",
       "      <td>surf</td>\n",
       "      <td>Dallas-Fort Worth-Arlington, TX MSA</td>\n",
       "      <td>20.00</td>\n",
       "    </tr>\n",
       "    <tr>\n",
       "      <th>2291</th>\n",
       "      <td>1491</td>\n",
       "      <td>0.000000</td>\n",
       "      <td>8.0</td>\n",
       "      <td>44.0</td>\n",
       "      <td>6.0</td>\n",
       "      <td>surf</td>\n",
       "      <td>Grand Rapids-Kentwood, MI MSA</td>\n",
       "      <td>20.00</td>\n",
       "    </tr>\n",
       "    <tr>\n",
       "      <th>2292</th>\n",
       "      <td>1482</td>\n",
       "      <td>0.000000</td>\n",
       "      <td>0.0</td>\n",
       "      <td>0.0</td>\n",
       "      <td>2.0</td>\n",
       "      <td>ultimate</td>\n",
       "      <td>New York-Newark-Jersey City, NY-NJ-PA MSA</td>\n",
       "      <td>70.00</td>\n",
       "    </tr>\n",
       "  </tbody>\n",
       "</table>\n",
       "<p>2293 rows × 8 columns</p>\n",
       "</div>"
      ],
      "text/plain": [
       "      user_id    gb_used  calls  call_dur   msgs      plan  \\\n",
       "0        1000   1.856904   16.0     124.0   11.0  ultimate   \n",
       "1        1001   6.756982   27.0     182.0   30.0      surf   \n",
       "2        1001  13.002754   49.0     315.0   44.0      surf   \n",
       "3        1001  21.807119   65.0     393.0   53.0      surf   \n",
       "4        1001  18.070605   64.0     426.0   36.0      surf   \n",
       "...       ...        ...    ...       ...    ...       ...   \n",
       "2288     1470   0.000000   81.0     632.0  156.0      surf   \n",
       "2289     1470   0.000000   78.0     592.0  153.0      surf   \n",
       "2290     1484   0.000000    2.0      38.0    1.0      surf   \n",
       "2291     1491   0.000000    8.0      44.0    6.0      surf   \n",
       "2292     1482   0.000000    0.0       0.0    2.0  ultimate   \n",
       "\n",
       "                                                  city  total_cost  \n",
       "0                Atlanta-Sandy Springs-Roswell, GA MSA       70.00  \n",
       "1                      Seattle-Tacoma-Bellevue, WA MSA       20.00  \n",
       "2                      Seattle-Tacoma-Bellevue, WA MSA       20.00  \n",
       "3                      Seattle-Tacoma-Bellevue, WA MSA       20.09  \n",
       "4                      Seattle-Tacoma-Bellevue, WA MSA       20.00  \n",
       "...                                                ...         ...  \n",
       "2288  Washington-Arlington-Alexandria, DC-VA-MD-WV MSA       27.14  \n",
       "2289  Washington-Arlington-Alexandria, DC-VA-MD-WV MSA       25.85  \n",
       "2290               Dallas-Fort Worth-Arlington, TX MSA       20.00  \n",
       "2291                     Grand Rapids-Kentwood, MI MSA       20.00  \n",
       "2292         New York-Newark-Jersey City, NY-NJ-PA MSA       70.00  \n",
       "\n",
       "[2293 rows x 8 columns]"
      ]
     },
     "execution_count": 43,
     "metadata": {},
     "output_type": "execute_result"
    }
   ],
   "source": [
    "# Replacing boolean values to strings and renaming the column\n",
    "\n",
    "new_total['is_ult'] = new_total.is_ult.apply(lambda x: 'ultimate' if x==True else 'surf')\n",
    "new_total = new_total.rename(columns={'is_ult': 'plan'})\n",
    "new_total"
   ]
  },
  {
   "cell_type": "markdown",
   "metadata": {},
   "source": [
    "## Study user behaviour"
   ]
  },
  {
   "cell_type": "markdown",
   "metadata": {},
   "source": [
    "In order for us to study user behavior properly we should plot for both plans since our goal is to find out which plan brings in more revenue. \n",
    "\n",
    "We'll compare each plan user's behavior in minutes they spend, messages they send and internet traffic they use. I'll be using the same plot methods for this analysis: histogram, barplot and boxplot.\n",
    "\n",
    "Before we start let's see the customer to plan distribution."
   ]
  },
  {
   "cell_type": "code",
   "execution_count": 44,
   "metadata": {},
   "outputs": [
    {
     "data": {
      "text/plain": [
       "surf        1573\n",
       "ultimate     720\n",
       "Name: plan, dtype: int64"
      ]
     },
     "execution_count": 44,
     "metadata": {},
     "output_type": "execute_result"
    }
   ],
   "source": [
    "new_total.plan.value_counts()"
   ]
  },
  {
   "cell_type": "markdown",
   "metadata": {},
   "source": [
    "This way we'll keep in mind there's less greatly less Ultimate plan users than Surf plan users."
   ]
  },
  {
   "cell_type": "markdown",
   "metadata": {},
   "source": [
    "### Calls"
   ]
  },
  {
   "cell_type": "code",
   "execution_count": 45,
   "metadata": {},
   "outputs": [
    {
     "data": {
      "image/png": "[encoded data removed]",
      "text/plain": [
       "<Figure size 640x480 with 1 Axes>"
      ]
     },
     "metadata": {},
     "output_type": "display_data"
    }
   ],
   "source": [
    "# Comparing average duration of calls per each plan per each distinct month\n",
    "\n",
    "sns.histplot(new_total,x='call_dur',hue='plan')\n",
    "plt.title('Average call duration per plan')\n",
    "plt.xlabel('Call duration in minutes')\n",
    "plt.ylabel('Count of people reached the duration')\n",
    "plt.show()"
   ]
  },
  {
   "cell_type": "markdown",
   "metadata": {},
   "source": [
    "In this barplot we have call duration on the X axis and number of people with those call durations on Y axis.\n",
    "\n",
    "The orange color bars represent Surf users and as we can see they outnumber Ultimate users in overall minutes spent on call. Both don't have extremely long calls but even on 1000 minute mark 'Serf' users are predominant."
   ]
  },
  {
   "cell_type": "code",
   "execution_count": 46,
   "metadata": {},
   "outputs": [
    {
     "data": {
      "image/png": "[encoded data removed]",
      "text/plain": [
       "<Figure size 1000x800 with 1 Axes>"
      ]
     },
     "metadata": {},
     "output_type": "display_data"
    }
   ],
   "source": [
    "# Comparing the number of minutes users of each plan require each month\n",
    "\n",
    "plt.style.use('ggplot') \n",
    "\n",
    "new_total.groupby('plan')['call_dur'].plot.hist(alpha=0.5, legend=True, bins=25, figsize=(10,8))\n",
    "\n",
    "plt.legend(['Surf', 'Ultimate'])\n",
    "plt.title('Call duration graph')\n",
    "plt.xlabel('Call duration in minutes')\n",
    "plt.ylabel('Count of people reached the duration')\n",
    "\n",
    "plt.show()"
   ]
  },
  {
   "cell_type": "markdown",
   "metadata": {},
   "source": [
    "Here we can see a normal distribution graph where Serf users have twice the mass in numbers with 400's of the customers at the peak with 500 minutes for calls.\n",
    "\n",
    "Ultimate users have lower call duration in average than Serf's users and also Ultimates have higher variance than Serf.\n",
    "\n",
    "We can do a boxplot for the same column in our dataframe."
   ]
  },
  {
   "cell_type": "code",
   "execution_count": 49,
   "metadata": {},
   "outputs": [
    {
     "data": {
      "image/png": "[encoded data removed]",
      "text/plain": [
       "<Figure size 800x700 with 1 Axes>"
      ]
     },
     "metadata": {},
     "output_type": "display_data"
    }
   ],
   "source": [
    "# Ploting a boxplot to visualize the distribution of the monthly call duration\n",
    "\n",
    "fig, ax = plt.subplots(figsize=(8,7))\n",
    "plt.title('Plan differences in call duration')\n",
    "ax = sns.boxplot( x='plan',y=\"call_dur\",\n",
    "                 data=new_total, palette=\"Set3\")"
   ]
  },
  {
   "cell_type": "markdown",
   "metadata": {},
   "source": [
    "Like we noticed before the boxplot, the average in boxplot on the right is lower than the left one. But Serf's users have more outliers just at the 1000 minutes mark and up to 1200 minutes."
   ]
  },
  {
   "cell_type": "markdown",
   "metadata": {},
   "source": [
    "### Messages"
   ]
  },
  {
   "cell_type": "code",
   "execution_count": 50,
   "metadata": {},
   "outputs": [
    {
     "data": {
      "image/png": "[encoded data removed]",
      "text/plain": [
       "<Figure size 640x480 with 1 Axes>"
      ]
     },
     "metadata": {},
     "output_type": "display_data"
    }
   ],
   "source": [
    "# Comparing the number of messages users of each plan tend to send each month\n",
    "\n",
    "sns.histplot(new_total,x='msgs',hue='plan')\n",
    "plt.title('Plan differences in messaging')\n",
    "plt.xlabel('Count of messages sent')\n",
    "plt.ylabel('Count of people with that amount of messages sent')\n",
    "plt.show()"
   ]
  },
  {
   "cell_type": "code",
   "execution_count": 51,
   "metadata": {},
   "outputs": [
    {
     "data": {
      "image/png": "[encoded data removed]",
      "text/plain": [
       "<Figure size 1000x800 with 1 Axes>"
      ]
     },
     "metadata": {},
     "output_type": "display_data"
    }
   ],
   "source": [
    "# Comparing the amount of messages sent by users per plan\n",
    "\n",
    "new_total.groupby('plan')['msgs'].plot.hist(alpha=0.5, legend=True, bins=25, figsize=(10,8))\n",
    "\n",
    "plt.legend(['Surf', 'Ultimate'])\n",
    "plt.title('Messages distribution graph')\n",
    "plt.xlabel('Count of messages sent')\n",
    "plt.ylabel('Count of people at amount messages')\n",
    "\n",
    "plt.show()"
   ]
  },
  {
   "cell_type": "code",
   "execution_count": 52,
   "metadata": {},
   "outputs": [
    {
     "data": {
      "image/png": "[encoded data removed]",
      "text/plain": [
       "<Figure size 800x700 with 1 Axes>"
      ]
     },
     "metadata": {},
     "output_type": "display_data"
    }
   ],
   "source": [
    "# Ploting a boxplot to visualize the distribution of messages sent\n",
    "\n",
    "fig, ax = plt.subplots(figsize=(8,7))\n",
    "plt.title('Plan differences in messaging')\n",
    "ax = sns.boxplot( x='plan',y=\"msgs\",\n",
    "                 data=new_total, palette=\"Set3\")"
   ]
  },
  {
   "cell_type": "markdown",
   "metadata": {},
   "source": [
    "On average Ultimate users send more messages than Serf's users. But also we can see great amount of outliers for the Serf plan."
   ]
  },
  {
   "cell_type": "markdown",
   "metadata": {},
   "source": [
    "### Internet"
   ]
  },
  {
   "cell_type": "code",
   "execution_count": 53,
   "metadata": {},
   "outputs": [
    {
     "data": {
      "image/png": "[encoded data removed]",
      "text/plain": [
       "<Figure size 640x480 with 1 Axes>"
      ]
     },
     "metadata": {},
     "output_type": "display_data"
    }
   ],
   "source": [
    "# Comparing the traffic usage for each plan\n",
    "\n",
    "sns.histplot(new_total,x='gb_used',hue='plan')\n",
    "plt.title('Plan differences in traffic usage')\n",
    "plt.xlabel('Traffic used')\n",
    "plt.ylabel('Count of people that used this much traffic')\n",
    "plt.show()"
   ]
  },
  {
   "cell_type": "markdown",
   "metadata": {},
   "source": [
    "Once again we observe the tiny rock in the shadow of a mountain. Our Serf plan customers surpass the Ultimate plan customers in sheer numbers with similar distribution for Gb usage."
   ]
  },
  {
   "cell_type": "code",
   "execution_count": 54,
   "metadata": {},
   "outputs": [
    {
     "data": {
      "image/png": "[encoded data removed]",
      "text/plain": [
       "<Figure size 1000x800 with 1 Axes>"
      ]
     },
     "metadata": {},
     "output_type": "display_data"
    }
   ],
   "source": [
    "# Comparing the amount of Gbs used for both plans\n",
    "\n",
    "new_total.groupby('plan')['gb_used'].plot.hist(alpha=0.5, legend=True, bins=25, figsize=(10,8))\n",
    "\n",
    "plt.legend(['Surf', 'Ultimate'])\n",
    "plt.title('Traffic distribution graph')\n",
    "plt.xlabel('Traffic used')\n",
    "plt.ylabel('Count of people that used this much traffic')\n",
    "\n",
    "plt.show()"
   ]
  },
  {
   "cell_type": "code",
   "execution_count": 55,
   "metadata": {},
   "outputs": [
    {
     "data": {
      "image/png": "[encoded data removed]",
      "text/plain": [
       "<Figure size 800x700 with 1 Axes>"
      ]
     },
     "metadata": {},
     "output_type": "display_data"
    }
   ],
   "source": [
    "# Ploting a boxplot to visualize the distribution of traffic usage\n",
    "\n",
    "fig, ax = plt.subplots(figsize=(8,7))\n",
    "plt.title('Plan differences in traffic usage')\n",
    "ax = sns.boxplot( x='plan',y=\"gb_used\",\n",
    "                 data=new_total, palette=\"Set3\")"
   ]
  },
  {
   "cell_type": "markdown",
   "metadata": {},
   "source": [
    "Same dynamic we have been noticing throughout this comparison. Now we that we observed our customers behavior we can take a look at their spending."
   ]
  },
  {
   "cell_type": "code",
   "execution_count": 56,
   "metadata": {},
   "outputs": [
    {
     "data": {
      "text/html": [
       "<div>\n",
       "<style scoped>\n",
       "    .dataframe tbody tr th:only-of-type {\n",
       "        vertical-align: middle;\n",
       "    }\n",
       "\n",
       "    .dataframe tbody tr th {\n",
       "        vertical-align: top;\n",
       "    }\n",
       "\n",
       "    .dataframe thead tr th {\n",
       "        text-align: left;\n",
       "    }\n",
       "\n",
       "    .dataframe thead tr:last-of-type th {\n",
       "        text-align: right;\n",
       "    }\n",
       "</style>\n",
       "<table border=\"1\" class=\"dataframe\">\n",
       "  <thead>\n",
       "    <tr>\n",
       "      <th></th>\n",
       "      <th colspan=\"3\" halign=\"left\">mean</th>\n",
       "      <th colspan=\"3\" halign=\"left\">std</th>\n",
       "      <th colspan=\"3\" halign=\"left\">var</th>\n",
       "    </tr>\n",
       "    <tr>\n",
       "      <th></th>\n",
       "      <th>call_dur</th>\n",
       "      <th>gb_used</th>\n",
       "      <th>msgs</th>\n",
       "      <th>call_dur</th>\n",
       "      <th>gb_used</th>\n",
       "      <th>msgs</th>\n",
       "      <th>call_dur</th>\n",
       "      <th>gb_used</th>\n",
       "      <th>msgs</th>\n",
       "    </tr>\n",
       "    <tr>\n",
       "      <th>plan</th>\n",
       "      <th></th>\n",
       "      <th></th>\n",
       "      <th></th>\n",
       "      <th></th>\n",
       "      <th></th>\n",
       "      <th></th>\n",
       "      <th></th>\n",
       "      <th></th>\n",
       "      <th></th>\n",
       "    </tr>\n",
       "  </thead>\n",
       "  <tbody>\n",
       "    <tr>\n",
       "      <th>surf</th>\n",
       "      <td>428.749523</td>\n",
       "      <td>16.170199</td>\n",
       "      <td>31.159568</td>\n",
       "      <td>234.453150</td>\n",
       "      <td>7.825697</td>\n",
       "      <td>33.566717</td>\n",
       "      <td>54968.279461</td>\n",
       "      <td>61.241527</td>\n",
       "      <td>1126.724522</td>\n",
       "    </tr>\n",
       "    <tr>\n",
       "      <th>ultimate</th>\n",
       "      <td>430.450000</td>\n",
       "      <td>16.811230</td>\n",
       "      <td>37.551389</td>\n",
       "      <td>240.508762</td>\n",
       "      <td>7.667869</td>\n",
       "      <td>34.767179</td>\n",
       "      <td>57844.464812</td>\n",
       "      <td>58.796209</td>\n",
       "      <td>1208.756744</td>\n",
       "    </tr>\n",
       "  </tbody>\n",
       "</table>\n",
       "</div>"
      ],
      "text/plain": [
       "                mean                               std                       \\\n",
       "            call_dur    gb_used       msgs    call_dur   gb_used       msgs   \n",
       "plan                                                                          \n",
       "surf      428.749523  16.170199  31.159568  234.453150  7.825697  33.566717   \n",
       "ultimate  430.450000  16.811230  37.551389  240.508762  7.667869  34.767179   \n",
       "\n",
       "                   var                          \n",
       "              call_dur    gb_used         msgs  \n",
       "plan                                            \n",
       "surf      54968.279461  61.241527  1126.724522  \n",
       "ultimate  57844.464812  58.796209  1208.756744  "
      ]
     },
     "execution_count": 56,
     "metadata": {},
     "output_type": "execute_result"
    }
   ],
   "source": [
    "# Displaying statistics on call duration, messages and traffic usage per plan\n",
    "\n",
    "new_total.pivot_table(index='plan', values=['call_dur', 'msgs', 'gb_used'],\n",
    "                       aggfunc=['mean', 'std', 'var'])"
   ]
  },
  {
   "cell_type": "markdown",
   "metadata": {},
   "source": [
    "## Revenue"
   ]
  },
  {
   "cell_type": "code",
   "execution_count": 57,
   "metadata": {},
   "outputs": [
    {
     "data": {
      "image/png": "[encoded data removed]",
      "text/plain": [
       "<Figure size 1000x900 with 1 Axes>"
      ]
     },
     "metadata": {},
     "output_type": "display_data"
    }
   ],
   "source": [
    "# Displaying total revenue \n",
    "\n",
    "fig, ax = plt.subplots(figsize=(10,9))\n",
    "plt.title('Revenue histogram of both plans')\n",
    "plt.xlabel('Revenue recieved in $')\n",
    "plt.ylabel('Count of people that paid the sum')\n",
    "ax = sns.histplot(new_total, x='total_cost', hue=\"plan\")"
   ]
  },
  {
   "cell_type": "code",
   "execution_count": 58,
   "metadata": {},
   "outputs": [
    {
     "data": {
      "image/png": "[encoded data removed]",
      "text/plain": [
       "<Figure size 1000x800 with 1 Axes>"
      ]
     },
     "metadata": {},
     "output_type": "display_data"
    }
   ],
   "source": [
    "# Displaying total revenue\n",
    "\n",
    "new_total.groupby('plan')['total_cost'].plot.hist(alpha=0.5, legend=True, bins=25, figsize=(10,8))\n",
    "\n",
    "plt.legend(['Surf', 'Ultimate'])\n",
    "plt.title('Total costs distribution graph')\n",
    "plt.xlabel('Revenue recieved in $')\n",
    "plt.ylabel('Count of people that paid the sum')\n",
    "\n",
    "plt.show()"
   ]
  },
  {
   "cell_type": "code",
   "execution_count": 59,
   "metadata": {},
   "outputs": [
    {
     "data": {
      "text/plain": [
       "plan\n",
       "surf        22.054151\n",
       "ultimate    70.000000\n",
       "Name: total_cost, dtype: float64"
      ]
     },
     "execution_count": 59,
     "metadata": {},
     "output_type": "execute_result"
    }
   ],
   "source": [
    "# Calculating the mean of the total cost\n",
    "\n",
    "new_total.groupby(['plan'])['total_cost'].mean()"
   ]
  },
  {
   "cell_type": "code",
   "execution_count": 60,
   "metadata": {},
   "outputs": [
    {
     "data": {
      "text/plain": [
       "plan\n",
       "surf        15.642668\n",
       "ultimate     0.000000\n",
       "Name: total_cost, dtype: float64"
      ]
     },
     "execution_count": 60,
     "metadata": {},
     "output_type": "execute_result"
    }
   ],
   "source": [
    "# Calculating the variance of the total cost\n",
    "\n",
    "new_total.groupby(['plan'])['total_cost'].var()"
   ]
  },
  {
   "cell_type": "code",
   "execution_count": 61,
   "metadata": {},
   "outputs": [
    {
     "data": {
      "text/plain": [
       "plan\n",
       "surf        3.955081\n",
       "ultimate    0.000000\n",
       "Name: total_cost, dtype: float64"
      ]
     },
     "execution_count": 61,
     "metadata": {},
     "output_type": "execute_result"
    }
   ],
   "source": [
    "# Calculating the standard deviation of the total cost\n",
    "\n",
    "new_total.groupby(['plan'])['total_cost'].std()"
   ]
  },
  {
   "cell_type": "code",
   "execution_count": 62,
   "metadata": {},
   "outputs": [
    {
     "data": {
      "image/png": "[encoded data removed]",
      "text/plain": [
       "<Figure size 800x700 with 1 Axes>"
      ]
     },
     "metadata": {},
     "output_type": "display_data"
    }
   ],
   "source": [
    "# Displaying total revenue with boxplot\n",
    "\n",
    "fig, ax = plt.subplots(figsize=(8,7))\n",
    "plt.title('Total revenue boxplot for both plans')\n",
    "ax = sns.boxplot( x='plan',y=\"total_cost\",\n",
    "                 data=new_total, palette=\"Set3\")"
   ]
  },
  {
   "cell_type": "markdown",
   "metadata": {},
   "source": [
    "Let's find out the exact numbers we have for both plans. We can use groupby method to group by both plans and sum up the total cost."
   ]
  },
  {
   "cell_type": "code",
   "execution_count": 63,
   "metadata": {},
   "outputs": [
    {
     "data": {
      "text/plain": [
       "plan\n",
       "surf        34691.18\n",
       "ultimate    50400.00\n",
       "Name: total_cost, dtype: float64"
      ]
     },
     "execution_count": 63,
     "metadata": {},
     "output_type": "execute_result"
    }
   ],
   "source": [
    "# Who pays more?\n",
    "\n",
    "new_total.groupby(by='plan')['total_cost'].sum()"
   ]
  },
  {
   "cell_type": "markdown",
   "metadata": {},
   "source": [
    "### Testing the hypotheses\n",
    "\n",
    "- The average revenue from users of Ultimate and Surf calling plans differs.\n",
    "- The average revenue from users in NY-NJ area is different from that of the users from other regions.\n",
    "\n",
    "Our alpha value will be 0,5.\n",
    "\n",
    "**I will explain:**\n",
    "\n",
    "- How I formulated the null and alternative hypotheses.\n",
    "\n",
    "- What criterion I used to test the hypotheses and why.\n"
   ]
  },
  {
   "cell_type": "markdown",
   "metadata": {},
   "source": [
    "## Test statistical hypotheses"
   ]
  },
  {
   "cell_type": "markdown",
   "metadata": {},
   "source": [
    "Our first **null hypothesis** is that the average revenue from users of the Ultimate and Surf calling plans does not differ. Thus our **alternative hypothesis** is that it does differ.\n",
    "\n",
    "Let's create separate dataframes to perform testing on."
   ]
  },
  {
   "cell_type": "code",
   "execution_count": 64,
   "metadata": {},
   "outputs": [],
   "source": [
    "# Using query to declare and assign parts of our dataframe accordingly\n",
    "\n",
    "surf = new_total.query('plan == \"surf\"')\n",
    "ultimate = new_total.query('plan == \"ultimate\"')"
   ]
  },
  {
   "cell_type": "code",
   "execution_count": 65,
   "metadata": {},
   "outputs": [],
   "source": [
    "# Creating samples for null hypothesis\n",
    "\n",
    "sample01 = surf.total_cost.copy()\n",
    "sample02 = ultimate.total_cost.copy()"
   ]
  },
  {
   "cell_type": "code",
   "execution_count": 66,
   "metadata": {},
   "outputs": [],
   "source": [
    "# Creating a function to perform normal t test\n",
    "\n",
    "def t_test(sample1,sample2,alpha=0.05):\n",
    "    p_value=stats.ttest_ind(sample1, sample2).pvalue\n",
    "    if p_value<alpha:\n",
    "        print('Reject H0: average of sample 1 is not equal to average of sample 2')\n",
    "    else:\n",
    "        print( \"Fail to Reject H0: We don't have enough evidence to say that averages of sample 1 \\\n",
    "  and sample 2 are not the same\") "
   ]
  },
  {
   "cell_type": "code",
   "execution_count": 67,
   "metadata": {},
   "outputs": [],
   "source": [
    "# Creating function to perform Levene's test\n",
    "\n",
    "def t_test_levene(sample1,sample2,alpha=0.05):\n",
    "    p_value_levene=stats.levene(sample1, sample2).pvalue\n",
    "    if p_value_levene<alpha:\n",
    "        option_var=False\n",
    "    else:\n",
    "        option_var=True\n",
    "    p_value=stats.ttest_ind(sample1, sample2,equal_var=option_var).pvalue\n",
    "    if p_value<alpha:\n",
    "        print('Reject H0: average of sample 1 is not equal to average of sample 2')\n",
    "    else:\n",
    "        print( \"Fail to Reject H0: We don't have enough evidence to say that averages of sample 1 \\\n",
    "  and sample 2 are not the same\") "
   ]
  },
  {
   "cell_type": "code",
   "execution_count": 68,
   "metadata": {},
   "outputs": [
    {
     "name": "stdout",
     "output_type": "stream",
     "text": [
      "Reject H0: average of sample 1 is not equal to average of sample 2\n",
      "None\n",
      "\n",
      "Reject H0: average of sample 1 is not equal to average of sample 2\n",
      "None\n"
     ]
    }
   ],
   "source": [
    "# Printing results of both functions for null hypothesis\n",
    "\n",
    "print(t_test_levene(sample01, sample02))\n",
    "print()\n",
    "print(t_test(sample01, sample02))"
   ]
  },
  {
   "cell_type": "code",
   "execution_count": 69,
   "metadata": {},
   "outputs": [
    {
     "data": {
      "text/html": [
       "<div>\n",
       "<style scoped>\n",
       "    .dataframe tbody tr th:only-of-type {\n",
       "        vertical-align: middle;\n",
       "    }\n",
       "\n",
       "    .dataframe tbody tr th {\n",
       "        vertical-align: top;\n",
       "    }\n",
       "\n",
       "    .dataframe thead th {\n",
       "        text-align: right;\n",
       "    }\n",
       "</style>\n",
       "<table border=\"1\" class=\"dataframe\">\n",
       "  <thead>\n",
       "    <tr style=\"text-align: right;\">\n",
       "      <th>plan</th>\n",
       "      <th>surf</th>\n",
       "      <th>ultimate</th>\n",
       "    </tr>\n",
       "  </thead>\n",
       "  <tbody>\n",
       "    <tr>\n",
       "      <th>count</th>\n",
       "      <td>1573.000000</td>\n",
       "      <td>720.0</td>\n",
       "    </tr>\n",
       "    <tr>\n",
       "      <th>mean</th>\n",
       "      <td>22.054151</td>\n",
       "      <td>70.0</td>\n",
       "    </tr>\n",
       "    <tr>\n",
       "      <th>std</th>\n",
       "      <td>3.955081</td>\n",
       "      <td>0.0</td>\n",
       "    </tr>\n",
       "    <tr>\n",
       "      <th>min</th>\n",
       "      <td>20.000000</td>\n",
       "      <td>70.0</td>\n",
       "    </tr>\n",
       "    <tr>\n",
       "      <th>25%</th>\n",
       "      <td>20.000000</td>\n",
       "      <td>70.0</td>\n",
       "    </tr>\n",
       "    <tr>\n",
       "      <th>50%</th>\n",
       "      <td>20.000000</td>\n",
       "      <td>70.0</td>\n",
       "    </tr>\n",
       "    <tr>\n",
       "      <th>75%</th>\n",
       "      <td>22.580000</td>\n",
       "      <td>70.0</td>\n",
       "    </tr>\n",
       "    <tr>\n",
       "      <th>max</th>\n",
       "      <td>52.550000</td>\n",
       "      <td>70.0</td>\n",
       "    </tr>\n",
       "  </tbody>\n",
       "</table>\n",
       "</div>"
      ],
      "text/plain": [
       "plan          surf  ultimate\n",
       "count  1573.000000     720.0\n",
       "mean     22.054151      70.0\n",
       "std       3.955081       0.0\n",
       "min      20.000000      70.0\n",
       "25%      20.000000      70.0\n",
       "50%      20.000000      70.0\n",
       "75%      22.580000      70.0\n",
       "max      52.550000      70.0"
      ]
     },
     "execution_count": 69,
     "metadata": {},
     "output_type": "execute_result"
    }
   ],
   "source": [
    "# Displaying revenue statistics\n",
    "\n",
    "new_total.groupby(['plan'])['total_cost'].describe().T"
   ]
  },
  {
   "cell_type": "markdown",
   "metadata": {},
   "source": [
    "The mean value here represents the average value in both plans thus we can compare them. "
   ]
  },
  {
   "cell_type": "markdown",
   "metadata": {},
   "source": [
    "Our second **null hypothesis** is that the average revenue from users in NY-NJ area does not differ from the users of other regions, and our **alternative hypothesis** for this is the opposite. \n",
    "\n",
    "We can test it by creating two dataframes: one with NY-NJ residents; and other with non NY-NJ residents."
   ]
  },
  {
   "cell_type": "code",
   "execution_count": 70,
   "metadata": {},
   "outputs": [],
   "source": [
    "# Creating separate dataframe only with residents of NY-NJ\n",
    "\n",
    "ny_nj = new_total[new_total.city.str.contains('NY|NJ')]\n",
    "\n",
    "ny_nj_mask = new_total.city.str.contains('NY|NJ')\n",
    "\n",
    "# Creating separate dataframe only with residents not from NY-NJ\n",
    "\n",
    "not_ny_nj = new_total.query('~@ny_nj_mask')"
   ]
  },
  {
   "cell_type": "code",
   "execution_count": 71,
   "metadata": {},
   "outputs": [],
   "source": [
    "# Creating samples for the alternative hypothesis testing\n",
    "\n",
    "sample03 = ny_nj.total_cost.copy()\n",
    "sample04 = not_ny_nj.total_cost.copy()"
   ]
  },
  {
   "cell_type": "code",
   "execution_count": 72,
   "metadata": {},
   "outputs": [
    {
     "name": "stdout",
     "output_type": "stream",
     "text": [
      "Reject H0: average of sample 1 is not equal to average of sample 2\n",
      "None\n",
      "\n",
      "Reject H0: average of sample 1 is not equal to average of sample 2\n",
      "None\n"
     ]
    }
   ],
   "source": [
    "# Printing results of both functions for alternative hypothesis\n",
    "\n",
    "print(t_test_levene(sample03, sample04))\n",
    "print()\n",
    "print(t_test(sample03, sample04))"
   ]
  },
  {
   "cell_type": "code",
   "execution_count": 73,
   "metadata": {},
   "outputs": [
    {
     "name": "stdout",
     "output_type": "stream",
     "text": [
      "count    488.000000\n",
      "mean      31.193361\n",
      "std       19.531144\n",
      "min       20.000000\n",
      "25%       20.000000\n",
      "50%       20.390000\n",
      "75%       27.095000\n",
      "max       70.000000\n",
      "Name: total_cost, dtype: float64\n",
      "count    1805.000000\n",
      "mean       38.708488\n",
      "std        22.978687\n",
      "min        20.000000\n",
      "25%        20.000000\n",
      "50%        23.240000\n",
      "75%        70.000000\n",
      "max        70.000000\n",
      "Name: total_cost, dtype: float64\n"
     ]
    }
   ],
   "source": [
    "# Displaying statistics for NY-NJ revenue\n",
    "\n",
    "print(ny_nj.total_cost.describe())\n",
    "\n",
    "# Displaying statistics for non NY-NJ revenue\n",
    "\n",
    "print(not_ny_nj.total_cost.describe())"
   ]
  },
  {
   "cell_type": "code",
   "execution_count": 74,
   "metadata": {},
   "outputs": [
    {
     "name": "stdout",
     "output_type": "stream",
     "text": [
      "Revenue difference: plan\n",
      "surf        34691.18\n",
      "ultimate    50400.00\n",
      "Name: total_cost, dtype: float64\n"
     ]
    }
   ],
   "source": [
    "print('Revenue difference:',new_total.groupby(by='plan')['total_cost'].sum())"
   ]
  },
  {
   "cell_type": "code",
   "execution_count": 75,
   "metadata": {},
   "outputs": [
    {
     "name": "stdout",
     "output_type": "stream",
     "text": [
      "NY and NJ residents: 15223\n",
      "Other areas: 69869\n"
     ]
    }
   ],
   "source": [
    "print('NY and NJ residents:',math.ceil(ny_nj.total_cost.sum()))\n",
    "print('Other areas:',math.ceil(not_ny_nj.total_cost.sum()))"
   ]
  },
  {
   "cell_type": "markdown",
   "metadata": {},
   "source": [
    "We supported alternative hypotheses in both cases,  the average revenue from users of the Ultimate and Surf calling plans does differ. We discovered that the revenue from calling plans differs and Ultimate's userbase brings in more revenue. \n",
    "\n",
    "The average revenue from users in NY-NJ area does differ as well. The difference here is quite significant but foreseeable."
   ]
  },
  {
   "cell_type": "markdown",
   "metadata": {},
   "source": [
    "## General conclusion\n",
    "\n"
   ]
  },
  {
   "cell_type": "markdown",
   "metadata": {},
   "source": [
    "We rejected both null hypothesises and supported the alternative ones.\n",
    "\n",
    "Let's go step by step on how we got to this point. We had five separate dataframes all connected with 'user_id's. We started with simply looking at each of them first and changing the datatype of dates to get the month of each call, message and internet session. Then  we created variables with grouped data that we had for each included activities mentioned before, after merging the variables into separate dataframe with each user's activity for each month. Then all we had to do is merge the new dataframe with 'users' dataframe by 'user_id' column once again, and write a function to sum all the costs overtime for each user.\n",
    "\n",
    "Now that we had clear data it was time to study the user's behavior. Users of Surf calling plan were overwhelming in masses over Ultimate since there was greater percentage of Surf in our 500 individual customers sample data. After testing the hypotheses we are ready to conclude the analysis.\n",
    "\n",
    "At the end we saw the total revenues from both calling plans and users of **Ultimate calling plan** were bringing in more than **Surf calling plan** users. So our company's commercial department should focus on the **Ultimate calling plan** and adjust the advertising budget accordingly."
   ]
  }
 ],
 "metadata": {
  "ExecuteTimeLog": [
   {
    "duration": 828,
    "start_time": "2021-11-16T09:21:11.304Z"
   },
   {
    "duration": 893,
    "start_time": "2021-11-16T09:21:17.728Z"
   },
   {
    "duration": 1150,
    "start_time": "2021-11-16T09:21:29.568Z"
   },
   {
    "duration": 3,
    "start_time": "2021-11-16T09:24:14.495Z"
   },
   {
    "duration": 120,
    "start_time": "2021-11-16T09:24:46.630Z"
   },
   {
    "duration": 3,
    "start_time": "2021-11-16T09:28:27.882Z"
   },
   {
    "duration": 4,
    "start_time": "2021-11-16T09:29:54.281Z"
   },
   {
    "duration": 3,
    "start_time": "2021-11-16T09:30:45.936Z"
   },
   {
    "duration": 4,
    "start_time": "2021-11-16T09:31:06.300Z"
   },
   {
    "duration": 113,
    "start_time": "2021-11-16T09:31:37.208Z"
   },
   {
    "duration": 143,
    "start_time": "2021-11-16T09:31:48.656Z"
   },
   {
    "duration": 98,
    "start_time": "2021-11-16T09:31:55.678Z"
   },
   {
    "duration": 3,
    "start_time": "2021-11-16T09:32:08.535Z"
   },
   {
    "duration": 111,
    "start_time": "2021-11-16T09:32:10.120Z"
   },
   {
    "duration": 3,
    "start_time": "2021-11-16T09:32:15.732Z"
   },
   {
    "duration": 4,
    "start_time": "2021-11-16T09:32:29.423Z"
   },
   {
    "duration": 3,
    "start_time": "2021-11-16T10:03:03.074Z"
   },
   {
    "duration": 3,
    "start_time": "2021-11-16T10:10:01.288Z"
   },
   {
    "duration": 3,
    "start_time": "2021-11-16T10:10:46.923Z"
   },
   {
    "duration": 121,
    "start_time": "2021-11-16T10:37:46.494Z"
   },
   {
    "duration": 125,
    "start_time": "2021-11-16T10:38:20.632Z"
   },
   {
    "duration": 112,
    "start_time": "2021-11-16T10:46:53.001Z"
   },
   {
    "duration": 110,
    "start_time": "2021-11-16T10:48:25.775Z"
   },
   {
    "duration": 3,
    "start_time": "2021-11-16T10:50:18.720Z"
   },
   {
    "duration": 4,
    "start_time": "2021-11-16T10:50:37.649Z"
   },
   {
    "duration": 2,
    "start_time": "2021-11-16T10:50:51.884Z"
   },
   {
    "duration": 3,
    "start_time": "2021-11-16T10:51:56.237Z"
   },
   {
    "duration": 101,
    "start_time": "2021-11-16T10:53:13.791Z"
   },
   {
    "duration": 3,
    "start_time": "2021-11-16T10:55:59.186Z"
   },
   {
    "duration": 3,
    "start_time": "2021-11-16T10:56:10.751Z"
   },
   {
    "duration": 3,
    "start_time": "2021-11-16T10:56:49.038Z"
   },
   {
    "duration": 3,
    "start_time": "2021-11-16T10:56:49.174Z"
   },
   {
    "duration": 4,
    "start_time": "2021-11-16T10:56:49.414Z"
   },
   {
    "duration": 3,
    "start_time": "2021-11-16T10:56:49.680Z"
   },
   {
    "duration": 3,
    "start_time": "2021-11-16T10:56:50.370Z"
   },
   {
    "duration": 114,
    "start_time": "2021-11-16T10:59:34.518Z"
   },
   {
    "duration": 3,
    "start_time": "2021-11-16T11:01:41.201Z"
   },
   {
    "duration": 116,
    "start_time": "2021-11-16T11:01:48.754Z"
   },
   {
    "duration": 3,
    "start_time": "2021-11-16T11:02:16.685Z"
   },
   {
    "duration": 3,
    "start_time": "2021-11-16T11:02:19.479Z"
   },
   {
    "duration": 3,
    "start_time": "2021-11-16T11:02:47.067Z"
   },
   {
    "duration": 3,
    "start_time": "2021-11-16T11:02:49.353Z"
   },
   {
    "duration": 3,
    "start_time": "2021-11-16T11:03:07.835Z"
   },
   {
    "duration": 3,
    "start_time": "2021-11-16T11:03:07.953Z"
   },
   {
    "duration": 112,
    "start_time": "2021-11-16T11:07:52.072Z"
   },
   {
    "duration": 187,
    "start_time": "2021-11-16T11:09:23.468Z"
   },
   {
    "duration": 4,
    "start_time": "2021-11-16T11:10:01.455Z"
   },
   {
    "duration": 3,
    "start_time": "2021-11-16T11:10:05.069Z"
   },
   {
    "duration": 4,
    "start_time": "2021-11-16T11:10:13.376Z"
   },
   {
    "duration": 3,
    "start_time": "2021-11-16T11:10:14.434Z"
   },
   {
    "duration": 3,
    "start_time": "2021-11-16T11:10:22.853Z"
   },
   {
    "duration": 4,
    "start_time": "2021-11-16T11:27:29.279Z"
   },
   {
    "duration": 4,
    "start_time": "2021-11-16T11:29:08.919Z"
   },
   {
    "duration": 118,
    "start_time": "2021-11-16T11:29:46.703Z"
   },
   {
    "duration": 437,
    "start_time": "2021-11-16T11:36:02.181Z"
   },
   {
    "duration": 157,
    "start_time": "2021-11-16T11:36:14.388Z"
   },
   {
    "duration": 207,
    "start_time": "2021-11-16T11:47:15.898Z"
   },
   {
    "duration": 3,
    "start_time": "2021-11-16T11:53:52.092Z"
   },
   {
    "duration": 3,
    "start_time": "2021-11-16T11:53:52.236Z"
   },
   {
    "duration": 3,
    "start_time": "2021-11-16T11:59:12.005Z"
   },
   {
    "duration": 112,
    "start_time": "2021-11-16T12:00:33.446Z"
   },
   {
    "duration": 3,
    "start_time": "2021-11-16T12:02:14.453Z"
   },
   {
    "duration": 3,
    "start_time": "2021-11-16T12:02:39.512Z"
   },
   {
    "duration": 106,
    "start_time": "2021-11-16T12:03:03.460Z"
   },
   {
    "duration": 3,
    "start_time": "2021-11-17T20:37:21.139Z"
   },
   {
    "duration": 3,
    "start_time": "2021-11-17T20:37:22.229Z"
   },
   {
    "duration": 3,
    "start_time": "2021-11-17T20:38:38.806Z"
   },
   {
    "duration": 3,
    "start_time": "2021-11-17T20:38:41.958Z"
   },
   {
    "duration": 3,
    "start_time": "2021-11-17T20:43:46.551Z"
   },
   {
    "duration": 4,
    "start_time": "2021-11-17T20:58:21.835Z"
   },
   {
    "duration": 3,
    "start_time": "2021-11-17T20:59:21.872Z"
   },
   {
    "duration": 4,
    "start_time": "2021-11-17T20:59:45.352Z"
   },
   {
    "duration": 4,
    "start_time": "2021-11-17T20:59:49.646Z"
   },
   {
    "duration": 159,
    "start_time": "2021-11-17T21:02:26.949Z"
   },
   {
    "duration": 3,
    "start_time": "2021-11-17T21:03:53.461Z"
   },
   {
    "duration": 3,
    "start_time": "2021-11-17T21:03:53.694Z"
   },
   {
    "duration": 3,
    "start_time": "2021-11-17T21:05:28.145Z"
   },
   {
    "duration": 116,
    "start_time": "2021-11-17T21:05:57.787Z"
   },
   {
    "duration": 3,
    "start_time": "2021-11-17T21:06:37.993Z"
   },
   {
    "duration": 3,
    "start_time": "2021-11-17T21:06:38.261Z"
   },
   {
    "duration": 3,
    "start_time": "2021-11-17T21:11:54.358Z"
   },
   {
    "duration": 3,
    "start_time": "2021-11-17T21:12:43.846Z"
   },
   {
    "duration": 4,
    "start_time": "2021-11-17T21:13:08.773Z"
   },
   {
    "duration": 3,
    "start_time": "2021-11-17T21:14:44.441Z"
   },
   {
    "duration": 3,
    "start_time": "2021-11-17T21:15:42.059Z"
   },
   {
    "duration": 4,
    "start_time": "2021-11-17T21:15:51.995Z"
   },
   {
    "duration": 3,
    "start_time": "2021-11-17T21:15:53.923Z"
   },
   {
    "duration": 3,
    "start_time": "2021-11-17T21:15:55.282Z"
   },
   {
    "duration": 3,
    "start_time": "2021-11-17T21:16:28.492Z"
   },
   {
    "duration": 3,
    "start_time": "2021-11-17T21:16:32.603Z"
   },
   {
    "duration": 3,
    "start_time": "2021-11-17T21:17:06.941Z"
   },
   {
    "duration": 98,
    "start_time": "2021-11-17T21:18:05.733Z"
   },
   {
    "duration": 4,
    "start_time": "2021-11-17T21:21:35.255Z"
   },
   {
    "duration": 3,
    "start_time": "2021-11-17T21:21:37.804Z"
   },
   {
    "duration": 4,
    "start_time": "2021-11-17T21:23:06.071Z"
   },
   {
    "duration": 3,
    "start_time": "2021-11-17T21:23:24.799Z"
   },
   {
    "duration": 3,
    "start_time": "2021-11-17T21:23:32.591Z"
   },
   {
    "duration": 98,
    "start_time": "2021-11-17T21:28:31.559Z"
   },
   {
    "duration": 3,
    "start_time": "2021-11-17T21:28:45.448Z"
   },
   {
    "duration": 3,
    "start_time": "2021-11-17T21:29:17.303Z"
   },
   {
    "duration": 3,
    "start_time": "2021-11-17T21:29:29.617Z"
   },
   {
    "duration": 3,
    "start_time": "2021-11-17T21:29:32.681Z"
   },
   {
    "duration": 3,
    "start_time": "2021-11-17T21:36:11.474Z"
   },
   {
    "duration": 3,
    "start_time": "2021-11-17T21:36:14.791Z"
   },
   {
    "duration": 3,
    "start_time": "2021-11-17T21:36:53.943Z"
   },
   {
    "duration": 3,
    "start_time": "2021-11-17T21:36:56.165Z"
   },
   {
    "duration": 4,
    "start_time": "2021-11-17T21:37:16.590Z"
   },
   {
    "duration": 3,
    "start_time": "2021-11-17T21:37:22.702Z"
   },
   {
    "duration": 4,
    "start_time": "2021-11-17T21:38:03.479Z"
   },
   {
    "duration": 3,
    "start_time": "2021-11-17T21:38:08.601Z"
   },
   {
    "duration": 3,
    "start_time": "2021-11-17T21:38:12.928Z"
   },
   {
    "duration": 3,
    "start_time": "2021-11-17T21:38:48.896Z"
   },
   {
    "duration": 2,
    "start_time": "2021-11-17T21:38:49.171Z"
   },
   {
    "duration": 4,
    "start_time": "2021-11-17T21:39:57.889Z"
   },
   {
    "duration": 3,
    "start_time": "2021-11-17T21:39:58.057Z"
   },
   {
    "duration": 3,
    "start_time": "2021-11-17T21:41:20.108Z"
   },
   {
    "duration": 3,
    "start_time": "2021-11-17T21:41:20.629Z"
   },
   {
    "duration": 3,
    "start_time": "2021-11-17T21:42:49.136Z"
   },
   {
    "duration": 3,
    "start_time": "2021-11-17T21:43:15.137Z"
   },
   {
    "duration": 4,
    "start_time": "2021-11-17T21:43:16.766Z"
   },
   {
    "duration": 4,
    "start_time": "2021-11-17T21:43:31.711Z"
   },
   {
    "duration": 3,
    "start_time": "2021-11-17T21:43:36.312Z"
   },
   {
    "duration": 4,
    "start_time": "2021-11-17T21:45:08.825Z"
   },
   {
    "duration": 4,
    "start_time": "2021-11-17T21:45:10.119Z"
   },
   {
    "duration": 4,
    "start_time": "2021-11-17T21:45:13.748Z"
   },
   {
    "duration": 3,
    "start_time": "2021-11-17T21:45:22.219Z"
   },
   {
    "duration": 3,
    "start_time": "2021-11-17T21:45:33.412Z"
   },
   {
    "duration": 2,
    "start_time": "2021-11-17T21:46:01.885Z"
   },
   {
    "duration": 3,
    "start_time": "2021-11-17T21:46:03.628Z"
   },
   {
    "duration": 107,
    "start_time": "2021-11-17T21:47:32.512Z"
   },
   {
    "duration": 103,
    "start_time": "2021-11-17T21:50:36.243Z"
   },
   {
    "duration": 3,
    "start_time": "2021-11-18T06:28:31.440Z"
   },
   {
    "duration": 3,
    "start_time": "2021-11-18T06:29:00.168Z"
   },
   {
    "duration": 3,
    "start_time": "2021-11-18T06:31:27.008Z"
   },
   {
    "duration": 2,
    "start_time": "2021-11-18T06:35:34.288Z"
   },
   {
    "duration": 2,
    "start_time": "2021-11-18T06:38:04.527Z"
   }
  ],
  "kernelspec": {
   "display_name": "Python 3 (ipykernel)",
   "language": "python",
   "name": "python3"
  },
  "language_info": {
   "codemirror_mode": {
    "name": "ipython",
    "version": 3
   },
   "file_extension": ".py",
   "mimetype": "text/x-python",
   "name": "python",
   "nbconvert_exporter": "python",
   "pygments_lexer": "ipython3",
   "version": "3.9.13"
  },
  "toc": {
   "base_numbering": 1,
   "nav_menu": {},
   "number_sections": true,
   "sideBar": true,
   "skip_h1_title": false,
   "title_cell": "Table of Contents",
   "title_sidebar": "Contents",
   "toc_cell": false,
   "toc_position": {
    "height": "calc(100% - 180px)",
    "left": "10px",
    "top": "150px",
    "width": "243.6px"
   },
   "toc_section_display": true,
   "toc_window_display": true
  }
 },
 "nbformat": 4,
 "nbformat_minor": 2
}
